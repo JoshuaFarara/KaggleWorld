{
 "cells": [
  {
   "cell_type": "code",
   "execution_count": 3,
   "id": "81745890",
   "metadata": {
    "_cell_guid": "b1076dfc-b9ad-4769-8c92-a6c4dae69d19",
    "_uuid": "8f2839f25d086af736a60e9eeb907d3b93b6e0e5",
    "execution": {
     "iopub.execute_input": "2024-05-01T14:46:15.812328Z",
     "iopub.status.busy": "2024-05-01T14:46:15.811903Z",
     "iopub.status.idle": "2024-05-01T14:46:16.671870Z",
     "shell.execute_reply": "2024-05-01T14:46:16.670727Z"
    },
    "papermill": {
     "duration": 0.867143,
     "end_time": "2024-05-01T14:46:16.674116",
     "exception": false,
     "start_time": "2024-05-01T14:46:15.806973",
     "status": "completed"
    },
    "tags": []
   },
   "outputs": [],
   "source": [
    "# This Python 3 environment comes with many helpful analytics libraries installed\n",
    "# It is defined by the kaggle/python Docker image: https://github.com/kaggle/docker-python\n",
    "# For example, here's several helpful packages to load\n",
    "\n",
    "import numpy as np # linear algebra\n",
    "import pandas as pd # data processing, CSV file I/O (e.g. pd.read_csv)\n",
    "\n",
    "# Input data files are available in the read-only \"../input/\" directory\n",
    "# For example, running this (by clicking run or pressing Shift+Enter) will list all files under the input directory\n",
    "\n",
    "import os\n",
    "for dirname, _, filenames in os.walk('/kaggle/input'):\n",
    "    for filename in filenames:\n",
    "        print(os.path.join(dirname, filename))\n",
    "\n",
    "# You can write up to 20GB to the current directory (/kaggle/working/) that gets preserved as output when you create a version using \"Save & Run All\" \n",
    "# You can also write temporary files to /kaggle/temp/, but they won't be saved outside of the current session"
   ]
  },
  {
   "cell_type": "markdown",
   "id": "9a1c8b41",
   "metadata": {
    "papermill": {
     "duration": 0.002722,
     "end_time": "2024-05-01T14:46:16.680162",
     "exception": false,
     "start_time": "2024-05-01T14:46:16.677440",
     "status": "completed"
    },
    "tags": []
   },
   "source": [
    "## Options"
   ]
  },
  {
   "cell_type": "code",
   "execution_count": 2,
   "id": "e05a4992",
   "metadata": {
    "execution": {
     "iopub.execute_input": "2024-05-01T14:46:16.687855Z",
     "iopub.status.busy": "2024-05-01T14:46:16.687352Z",
     "iopub.status.idle": "2024-05-01T14:46:16.692450Z",
     "shell.execute_reply": "2024-05-01T14:46:16.691391Z"
    },
    "papermill": {
     "duration": 0.011624,
     "end_time": "2024-05-01T14:46:16.694724",
     "exception": false,
     "start_time": "2024-05-01T14:46:16.683100",
     "status": "completed"
    },
    "tags": []
   },
   "outputs": [],
   "source": [
    "# pd.describe_option()\n",
    "# pd.set_option('display.width', 1000)\n",
    "# pd.set_option(\"display.max_rows\", 999)\n",
    "# pd.set_option(\"max_colwidth\", 200)"
   ]
  },
  {
   "cell_type": "code",
   "execution_count": 3,
   "id": "fce1a36d",
   "metadata": {
    "execution": {
     "iopub.execute_input": "2024-05-01T14:46:16.702424Z",
     "iopub.status.busy": "2024-05-01T14:46:16.702005Z",
     "iopub.status.idle": "2024-05-01T14:46:19.371666Z",
     "shell.execute_reply": "2024-05-01T14:46:19.370498Z"
    },
    "papermill": {
     "duration": 2.676417,
     "end_time": "2024-05-01T14:46:19.374233",
     "exception": false,
     "start_time": "2024-05-01T14:46:16.697816",
     "status": "completed"
    },
    "tags": []
   },
   "outputs": [],
   "source": [
    "traffic_data = pd.read_csv('/kaggle/input/urban-traffic-density-in-cities/futuristic_city_traffic.csv')"
   ]
  },
  {
   "cell_type": "code",
   "execution_count": 4,
   "id": "e4c187a6",
   "metadata": {
    "execution": {
     "iopub.execute_input": "2024-05-01T14:46:19.382193Z",
     "iopub.status.busy": "2024-05-01T14:46:19.381843Z",
     "iopub.status.idle": "2024-05-01T14:46:19.693573Z",
     "shell.execute_reply": "2024-05-01T14:46:19.692473Z"
    },
    "papermill": {
     "duration": 0.318571,
     "end_time": "2024-05-01T14:46:19.696112",
     "exception": false,
     "start_time": "2024-05-01T14:46:19.377541",
     "status": "completed"
    },
    "tags": []
   },
   "outputs": [
    {
     "name": "stdout",
     "output_type": "stream",
     "text": [
      "<class 'pandas.core.frame.DataFrame'>\n",
      "RangeIndex: 1219567 entries, 0 to 1219566\n",
      "Data columns (total 11 columns):\n",
      " #   Column                 Non-Null Count    Dtype  \n",
      "---  ------                 --------------    -----  \n",
      " 0   City                   1219567 non-null  object \n",
      " 1   Vehicle Type           1219567 non-null  object \n",
      " 2   Weather                1219567 non-null  object \n",
      " 3   Economic Condition     1219567 non-null  object \n",
      " 4   Day Of Week            1219567 non-null  object \n",
      " 5   Hour Of Day            1219567 non-null  int64  \n",
      " 6   Speed                  1219567 non-null  float64\n",
      " 7   Is Peak Hour           1219567 non-null  int64  \n",
      " 8   Random Event Occurred  1219567 non-null  int64  \n",
      " 9   Energy Consumption     1219567 non-null  float64\n",
      " 10  Traffic Density        1219567 non-null  float64\n",
      "dtypes: float64(3), int64(3), object(5)\n",
      "memory usage: 102.4+ MB\n"
     ]
    }
   ],
   "source": [
    "traffic_data.info()\n"
   ]
  },
  {
   "cell_type": "code",
   "execution_count": 5,
   "id": "edc67e6d",
   "metadata": {
    "execution": {
     "iopub.execute_input": "2024-05-01T14:46:19.704422Z",
     "iopub.status.busy": "2024-05-01T14:46:19.703650Z",
     "iopub.status.idle": "2024-05-01T14:46:19.711363Z",
     "shell.execute_reply": "2024-05-01T14:46:19.710076Z"
    },
    "papermill": {
     "duration": 0.014149,
     "end_time": "2024-05-01T14:46:19.713552",
     "exception": false,
     "start_time": "2024-05-01T14:46:19.699403",
     "status": "completed"
    },
    "tags": []
   },
   "outputs": [
    {
     "data": {
      "text/plain": [
       "(1219567, 11)"
      ]
     },
     "execution_count": 5,
     "metadata": {},
     "output_type": "execute_result"
    }
   ],
   "source": [
    "traffic_data.shape"
   ]
  },
  {
   "cell_type": "code",
   "execution_count": 6,
   "id": "1aa411b5",
   "metadata": {
    "execution": {
     "iopub.execute_input": "2024-05-01T14:46:19.722208Z",
     "iopub.status.busy": "2024-05-01T14:46:19.721268Z",
     "iopub.status.idle": "2024-05-01T14:46:19.728024Z",
     "shell.execute_reply": "2024-05-01T14:46:19.727043Z"
    },
    "papermill": {
     "duration": 0.013273,
     "end_time": "2024-05-01T14:46:19.730100",
     "exception": false,
     "start_time": "2024-05-01T14:46:19.716827",
     "status": "completed"
    },
    "tags": []
   },
   "outputs": [
    {
     "data": {
      "text/plain": [
       "Index(['City', 'Vehicle Type', 'Weather', 'Economic Condition', 'Day Of Week',\n",
       "       'Hour Of Day', 'Speed', 'Is Peak Hour', 'Random Event Occurred',\n",
       "       'Energy Consumption', 'Traffic Density'],\n",
       "      dtype='object')"
      ]
     },
     "execution_count": 6,
     "metadata": {},
     "output_type": "execute_result"
    }
   ],
   "source": [
    "traffic_data.columns\n"
   ]
  },
  {
   "cell_type": "code",
   "execution_count": 7,
   "id": "26957579",
   "metadata": {
    "execution": {
     "iopub.execute_input": "2024-05-01T14:46:19.738630Z",
     "iopub.status.busy": "2024-05-01T14:46:19.738239Z",
     "iopub.status.idle": "2024-05-01T14:46:19.760858Z",
     "shell.execute_reply": "2024-05-01T14:46:19.759740Z"
    },
    "papermill": {
     "duration": 0.029477,
     "end_time": "2024-05-01T14:46:19.763211",
     "exception": false,
     "start_time": "2024-05-01T14:46:19.733734",
     "status": "completed"
    },
    "tags": []
   },
   "outputs": [
    {
     "data": {
      "text/html": [
       "<div>\n",
       "<style scoped>\n",
       "    .dataframe tbody tr th:only-of-type {\n",
       "        vertical-align: middle;\n",
       "    }\n",
       "\n",
       "    .dataframe tbody tr th {\n",
       "        vertical-align: top;\n",
       "    }\n",
       "\n",
       "    .dataframe thead th {\n",
       "        text-align: right;\n",
       "    }\n",
       "</style>\n",
       "<table border=\"1\" class=\"dataframe\">\n",
       "  <thead>\n",
       "    <tr style=\"text-align: right;\">\n",
       "      <th></th>\n",
       "      <th>City</th>\n",
       "      <th>Vehicle Type</th>\n",
       "      <th>Weather</th>\n",
       "      <th>Economic Condition</th>\n",
       "      <th>Day Of Week</th>\n",
       "      <th>Hour Of Day</th>\n",
       "      <th>Speed</th>\n",
       "      <th>Is Peak Hour</th>\n",
       "      <th>Random Event Occurred</th>\n",
       "      <th>Energy Consumption</th>\n",
       "      <th>Traffic Density</th>\n",
       "    </tr>\n",
       "  </thead>\n",
       "  <tbody>\n",
       "    <tr>\n",
       "      <th>0</th>\n",
       "      <td>SolarisVille</td>\n",
       "      <td>Drone</td>\n",
       "      <td>Snowy</td>\n",
       "      <td>Stable</td>\n",
       "      <td>Sunday</td>\n",
       "      <td>20</td>\n",
       "      <td>29.4268</td>\n",
       "      <td>0</td>\n",
       "      <td>0</td>\n",
       "      <td>14.7134</td>\n",
       "      <td>0.5241</td>\n",
       "    </tr>\n",
       "    <tr>\n",
       "      <th>1</th>\n",
       "      <td>AquaCity</td>\n",
       "      <td>Flying Car</td>\n",
       "      <td>Solar Flare</td>\n",
       "      <td>Recession</td>\n",
       "      <td>Wednesday</td>\n",
       "      <td>2</td>\n",
       "      <td>118.8000</td>\n",
       "      <td>0</td>\n",
       "      <td>0</td>\n",
       "      <td>143.5682</td>\n",
       "      <td>0.3208</td>\n",
       "    </tr>\n",
       "    <tr>\n",
       "      <th>2</th>\n",
       "      <td>Neuroburg</td>\n",
       "      <td>Autonomous Vehicle</td>\n",
       "      <td>Solar Flare</td>\n",
       "      <td>Recession</td>\n",
       "      <td>Wednesday</td>\n",
       "      <td>16</td>\n",
       "      <td>100.3904</td>\n",
       "      <td>0</td>\n",
       "      <td>0</td>\n",
       "      <td>91.2640</td>\n",
       "      <td>0.0415</td>\n",
       "    </tr>\n",
       "    <tr>\n",
       "      <th>3</th>\n",
       "      <td>Ecoopolis</td>\n",
       "      <td>Drone</td>\n",
       "      <td>Clear</td>\n",
       "      <td>Booming</td>\n",
       "      <td>Thursday</td>\n",
       "      <td>8</td>\n",
       "      <td>76.8000</td>\n",
       "      <td>1</td>\n",
       "      <td>0</td>\n",
       "      <td>46.0753</td>\n",
       "      <td>0.1811</td>\n",
       "    </tr>\n",
       "    <tr>\n",
       "      <th>4</th>\n",
       "      <td>AquaCity</td>\n",
       "      <td>Autonomous Vehicle</td>\n",
       "      <td>Solar Flare</td>\n",
       "      <td>Stable</td>\n",
       "      <td>Saturday</td>\n",
       "      <td>16</td>\n",
       "      <td>45.2176</td>\n",
       "      <td>0</td>\n",
       "      <td>0</td>\n",
       "      <td>40.1934</td>\n",
       "      <td>0.4544</td>\n",
       "    </tr>\n",
       "    <tr>\n",
       "      <th>5</th>\n",
       "      <td>TechHaven</td>\n",
       "      <td>Autonomous Vehicle</td>\n",
       "      <td>Snowy</td>\n",
       "      <td>Recession</td>\n",
       "      <td>Thursday</td>\n",
       "      <td>20</td>\n",
       "      <td>30.5179</td>\n",
       "      <td>0</td>\n",
       "      <td>0</td>\n",
       "      <td>37.5562</td>\n",
       "      <td>0.0843</td>\n",
       "    </tr>\n",
       "    <tr>\n",
       "      <th>6</th>\n",
       "      <td>Ecoopolis</td>\n",
       "      <td>Autonomous Vehicle</td>\n",
       "      <td>Rainy</td>\n",
       "      <td>Recession</td>\n",
       "      <td>Monday</td>\n",
       "      <td>21</td>\n",
       "      <td>43.9222</td>\n",
       "      <td>0</td>\n",
       "      <td>0</td>\n",
       "      <td>39.0420</td>\n",
       "      <td>0.0293</td>\n",
       "    </tr>\n",
       "    <tr>\n",
       "      <th>7</th>\n",
       "      <td>Ecoopolis</td>\n",
       "      <td>Autonomous Vehicle</td>\n",
       "      <td>Snowy</td>\n",
       "      <td>Stable</td>\n",
       "      <td>Friday</td>\n",
       "      <td>20</td>\n",
       "      <td>20.4236</td>\n",
       "      <td>0</td>\n",
       "      <td>0</td>\n",
       "      <td>18.1543</td>\n",
       "      <td>0.1393</td>\n",
       "    </tr>\n",
       "    <tr>\n",
       "      <th>8</th>\n",
       "      <td>MetropolisX</td>\n",
       "      <td>Drone</td>\n",
       "      <td>Snowy</td>\n",
       "      <td>Recession</td>\n",
       "      <td>Saturday</td>\n",
       "      <td>7</td>\n",
       "      <td>69.9735</td>\n",
       "      <td>0</td>\n",
       "      <td>0</td>\n",
       "      <td>41.8502</td>\n",
       "      <td>0.1505</td>\n",
       "    </tr>\n",
       "    <tr>\n",
       "      <th>9</th>\n",
       "      <td>SolarisVille</td>\n",
       "      <td>Drone</td>\n",
       "      <td>Snowy</td>\n",
       "      <td>Booming</td>\n",
       "      <td>Saturday</td>\n",
       "      <td>15</td>\n",
       "      <td>37.9431</td>\n",
       "      <td>0</td>\n",
       "      <td>0</td>\n",
       "      <td>18.9715</td>\n",
       "      <td>0.2485</td>\n",
       "    </tr>\n",
       "    <tr>\n",
       "      <th>10</th>\n",
       "      <td>Neuroburg</td>\n",
       "      <td>Drone</td>\n",
       "      <td>Snowy</td>\n",
       "      <td>Stable</td>\n",
       "      <td>Saturday</td>\n",
       "      <td>13</td>\n",
       "      <td>29.5809</td>\n",
       "      <td>1</td>\n",
       "      <td>0</td>\n",
       "      <td>14.1535</td>\n",
       "      <td>0.0626</td>\n",
       "    </tr>\n",
       "    <tr>\n",
       "      <th>11</th>\n",
       "      <td>MetropolisX</td>\n",
       "      <td>Drone</td>\n",
       "      <td>Clear</td>\n",
       "      <td>Booming</td>\n",
       "      <td>Tuesday</td>\n",
       "      <td>7</td>\n",
       "      <td>40.4778</td>\n",
       "      <td>1</td>\n",
       "      <td>0</td>\n",
       "      <td>18.3990</td>\n",
       "      <td>0.5179</td>\n",
       "    </tr>\n",
       "    <tr>\n",
       "      <th>12</th>\n",
       "      <td>TechHaven</td>\n",
       "      <td>Autonomous Vehicle</td>\n",
       "      <td>Clear</td>\n",
       "      <td>Recession</td>\n",
       "      <td>Sunday</td>\n",
       "      <td>7</td>\n",
       "      <td>87.8801</td>\n",
       "      <td>0</td>\n",
       "      <td>0</td>\n",
       "      <td>79.8910</td>\n",
       "      <td>0.1248</td>\n",
       "    </tr>\n",
       "    <tr>\n",
       "      <th>13</th>\n",
       "      <td>Neuroburg</td>\n",
       "      <td>Autonomous Vehicle</td>\n",
       "      <td>Electromagnetic Storm</td>\n",
       "      <td>Recession</td>\n",
       "      <td>Sunday</td>\n",
       "      <td>10</td>\n",
       "      <td>60.0447</td>\n",
       "      <td>0</td>\n",
       "      <td>0</td>\n",
       "      <td>57.4590</td>\n",
       "      <td>0.0342</td>\n",
       "    </tr>\n",
       "    <tr>\n",
       "      <th>14</th>\n",
       "      <td>Ecoopolis</td>\n",
       "      <td>Drone</td>\n",
       "      <td>Solar Flare</td>\n",
       "      <td>Booming</td>\n",
       "      <td>Monday</td>\n",
       "      <td>8</td>\n",
       "      <td>70.2698</td>\n",
       "      <td>1</td>\n",
       "      <td>0</td>\n",
       "      <td>35.1349</td>\n",
       "      <td>0.2389</td>\n",
       "    </tr>\n",
       "  </tbody>\n",
       "</table>\n",
       "</div>"
      ],
      "text/plain": [
       "            City        Vehicle Type                Weather  \\\n",
       "0   SolarisVille               Drone                  Snowy   \n",
       "1       AquaCity          Flying Car            Solar Flare   \n",
       "2      Neuroburg  Autonomous Vehicle            Solar Flare   \n",
       "3      Ecoopolis               Drone                  Clear   \n",
       "4       AquaCity  Autonomous Vehicle            Solar Flare   \n",
       "5      TechHaven  Autonomous Vehicle                  Snowy   \n",
       "6      Ecoopolis  Autonomous Vehicle                  Rainy   \n",
       "7      Ecoopolis  Autonomous Vehicle                  Snowy   \n",
       "8    MetropolisX               Drone                  Snowy   \n",
       "9   SolarisVille               Drone                  Snowy   \n",
       "10     Neuroburg               Drone                  Snowy   \n",
       "11   MetropolisX               Drone                  Clear   \n",
       "12     TechHaven  Autonomous Vehicle                  Clear   \n",
       "13     Neuroburg  Autonomous Vehicle  Electromagnetic Storm   \n",
       "14     Ecoopolis               Drone            Solar Flare   \n",
       "\n",
       "   Economic Condition Day Of Week  Hour Of Day     Speed  Is Peak Hour  \\\n",
       "0              Stable      Sunday           20   29.4268             0   \n",
       "1           Recession   Wednesday            2  118.8000             0   \n",
       "2           Recession   Wednesday           16  100.3904             0   \n",
       "3             Booming    Thursday            8   76.8000             1   \n",
       "4              Stable    Saturday           16   45.2176             0   \n",
       "5           Recession    Thursday           20   30.5179             0   \n",
       "6           Recession      Monday           21   43.9222             0   \n",
       "7              Stable      Friday           20   20.4236             0   \n",
       "8           Recession    Saturday            7   69.9735             0   \n",
       "9             Booming    Saturday           15   37.9431             0   \n",
       "10             Stable    Saturday           13   29.5809             1   \n",
       "11            Booming     Tuesday            7   40.4778             1   \n",
       "12          Recession      Sunday            7   87.8801             0   \n",
       "13          Recession      Sunday           10   60.0447             0   \n",
       "14            Booming      Monday            8   70.2698             1   \n",
       "\n",
       "    Random Event Occurred  Energy Consumption  Traffic Density  \n",
       "0                       0             14.7134           0.5241  \n",
       "1                       0            143.5682           0.3208  \n",
       "2                       0             91.2640           0.0415  \n",
       "3                       0             46.0753           0.1811  \n",
       "4                       0             40.1934           0.4544  \n",
       "5                       0             37.5562           0.0843  \n",
       "6                       0             39.0420           0.0293  \n",
       "7                       0             18.1543           0.1393  \n",
       "8                       0             41.8502           0.1505  \n",
       "9                       0             18.9715           0.2485  \n",
       "10                      0             14.1535           0.0626  \n",
       "11                      0             18.3990           0.5179  \n",
       "12                      0             79.8910           0.1248  \n",
       "13                      0             57.4590           0.0342  \n",
       "14                      0             35.1349           0.2389  "
      ]
     },
     "execution_count": 7,
     "metadata": {},
     "output_type": "execute_result"
    }
   ],
   "source": [
    "traffic_data.head(15)"
   ]
  },
  {
   "cell_type": "code",
   "execution_count": null,
   "id": "e1d72b02",
   "metadata": {
    "papermill": {
     "duration": 0.003526,
     "end_time": "2024-05-01T14:46:19.770565",
     "exception": false,
     "start_time": "2024-05-01T14:46:19.767039",
     "status": "completed"
    },
    "tags": []
   },
   "outputs": [],
   "source": []
  }
 ],
 "metadata": {
  "kaggle": {
   "accelerator": "none",
   "dataSources": [
    {
     "datasetId": 4481117,
     "sourceId": 7680757,
     "sourceType": "datasetVersion"
    }
   ],
   "dockerImageVersionId": 30673,
   "isGpuEnabled": false,
   "isInternetEnabled": true,
   "language": "python",
   "sourceType": "notebook"
  },
  "kernelspec": {
   "display_name": "Python 3",
   "language": "python",
   "name": "python3"
  },
  "language_info": {
   "codemirror_mode": {
    "name": "ipython",
    "version": 3
   },
   "file_extension": ".py",
   "mimetype": "text/x-python",
   "name": "python",
   "nbconvert_exporter": "python",
   "pygments_lexer": "ipython3",
   "version": "3.11.7"
  },
  "papermill": {
   "default_parameters": {},
   "duration": 7.209965,
   "end_time": "2024-05-01T14:46:20.294205",
   "environment_variables": {},
   "exception": null,
   "input_path": "__notebook__.ipynb",
   "output_path": "__notebook__.ipynb",
   "parameters": {},
   "start_time": "2024-05-01T14:46:13.084240",
   "version": "2.5.0"
  }
 },
 "nbformat": 4,
 "nbformat_minor": 5
}
