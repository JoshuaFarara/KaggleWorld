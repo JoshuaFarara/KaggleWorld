{
    "cells": [
        {
            "cell_type": "markdown",
            "id": "9eeb549a",
            "metadata": {},
            "source": [
                "# Walmart EDA\n",
                "![image_name](../../assets/walmart-image.jpg \"alt-image_name!\")\n"
            ]
        },
        {
            "cell_type": "markdown",
            "id": "9a002bcb",
            "metadata": {},
            "source": [
                "## About Author\n",
                "Author: Joshua Farara\n",
                "\n",
                "Project: Walmart EDA\n",
                "### Contact Info\n",
                "Click on link below to contact/follow/correct me:\n",
                "\n",
                "Email: joshua.farara@gmail.com\n",
                "\n",
                "[LinkedIn](https://www.linkedin.com/in/joshuafarara/)\n",
                "\n",
                "[Facebook](https://www.facebook.com/josh.farara/)\n",
                "\n",
                "[Twitter](https://x.com/FararaTheArtist)\n",
                "\n",
                "[Github](https://github.com/JoshuaFarara)\n"
            ]
        },
        {
            "cell_type": "markdown",
            "id": "78cf4917",
            "metadata": {},
            "source": [
                "## About Data\n",
                "\n",
                "Title: Walmart Product Data 2019\n",
                "\n",
                "Dataset: [Link](https://www.kaggle.com/datasets/promptcloud/walmart-product-data-2019/data)\n",
                "\n",
                "Description: PromptCloud extracted 30K records of sample data from Walmart to find out product reviews, pricing, and categories of products available on Walmart.\n",
                "\n"
            ]
        },
        {
            "cell_type": "markdown",
            "id": "248b4eda",
            "metadata": {},
            "source": [
                "### Dataset Columns Names\n",
                "\n",
                "Features:\n",
                "\n",
                "'Uniq Id', 'Crawl Timestamp', 'Product Url', 'Product Name',\n",
                "       'Description', 'List Price', 'Sale Price', 'Brand', 'Item Number',\n",
                "       'Gtin', 'Package Size', 'Category', 'Postal Code', 'Available'\n",
                "\n"
            ]
        },
        {
            "cell_type": "markdown",
            "id": "5ccd76a2",
            "metadata": {},
            "source": [
                "### Metadata\n",
                "\n",
                "Author: Vimal, Tarun\n",
                "\n",
                "Source: PromptCloud (Owner)\n",
                "\n",
                "Collection Methodology\n",
                "\n",
                "License:\n"
            ]
        },
        {
            "cell_type": "markdown",
            "id": "a9430d40",
            "metadata": {},
            "source": [
                "### Task\n",
                "\n",
                "Helpful to customers, clients and various other people interested in data of different types to use this to come up with a case study or an article or anything that can be used by the common man and competitors to position themselves strongly in the market. \n",
                "\n"
            ]
        },
        {
            "cell_type": "markdown",
            "id": "6f5ba08f",
            "metadata": {},
            "source": [
                "### Objective\n",
                "\n",
                "We saw that there was a large need for datasets of different types of Products across the largest eCommerce websites around the globe. Although Amazon is the largest in the world and is the most searched in the globe. Walmart makes a strong case for itself in the field of eCommerce as it has been around for years now catering to the average American families daily."
            ]
        },
        {
            "cell_type": "markdown",
            "id": "5c83e46b",
            "metadata": {},
            "source": [
                "### Kernel Version Used\n",
                "\n",
                "Python==3.11.7\n"
            ]
        },
        {
            "cell_type": "markdown",
            "id": "9d673747",
            "metadata": {},
            "source": [
                "## Import Libraries\n",
                "We will use the following libraries\n",
                "1. Pandas: Data manipulation and analysis\n",
                "2. Numpy: Numerical operations and calculations\n",
                "3. Matplotlib: Data visualization and plotting\n",
                "4. Seaborn: Enhanced data visualization and statistical graphics\n",
                "5. Scipy: Scientific computing and advanced mathematical operations\n"
            ]
        },
        {
            "cell_type": "code",
            "execution_count": 1,
            "id": "892ab386",
            "metadata": {},
            "outputs": [],
            "source": [
                "import pandas as pd\n",
                "import numpy as np\n",
                "import matplotlib.pyplot as plt\n",
                "import seaborn as sns\n",
                "import scipy as sp\n",
                "import os\n",
                "import sys\n",
                "# this is for jupyter notebook to show the plot in the notebook itself instead of opening a new window\n",
                "%matplotlib inline\n",
                "\n",
                "for dirname, _, filenames in os.walk('/kaggle/input'):\n",
                "   for filename in filenames:\n",
                "       print(os.path.join(dirname, filename))\n",
                "# You can write up to 20GB to the current directory (/kaggle/working/) that gets preserved as output when you create a version using\n",
                "# You can also write temporary files to /kaggle/temp/, but they won't be saved outside of the current session\n"
            ]
        },
        {
            "cell_type": "markdown",
            "id": "b9aa7c28",
            "metadata": {},
            "source": [
                "## Data Loading and Exploration | Cleaning"
            ]
        },
        {
            "cell_type": "markdown",
            "id": "2de69755",
            "metadata": {},
            "source": [
                "### Load a CSV file then creating a dataframe"
            ]
        },
        {
            "cell_type": "code",
            "execution_count": 2,
            "id": "dac32af0",
            "metadata": {},
            "outputs": [],
            "source": [
                "# Kaggle Notebook\n",
                "# df = pd.read_csv('/kaggle/input/coffee-sales/index.csv')\n",
                "\n",
                "# Local Machine Notebook\n",
                "df = pd.read_csv('../../data/walmart_data.csv')\n"
            ]
        },
        {
            "cell_type": "markdown",
            "id": "ccd3d060",
            "metadata": {},
            "source": [
                "### Set the option to show maximum columns"
            ]
        },
        {
            "cell_type": "code",
            "execution_count": 3,
            "id": "86df6649",
            "metadata": {},
            "outputs": [],
            "source": [
                "pd.set_option('display.max_columns', None)\n",
                "pd.set_option('display.max_rows', None)\n"
            ]
        },
        {
            "cell_type": "markdown",
            "metadata": {},
            "source": [
                "### Get a sneak peek of data\n",
                "The purpose of a sneak peek is to get a quick overview of the data and identify any potential problems or areas of interest\n"
            ]
        },
        {
            "cell_type": "code",
            "execution_count": 4,
            "metadata": {},
            "outputs": [
                {
                    "data": {
                        "text/html": [
                            "<div>\n",
                            "<style scoped>\n",
                            "    .dataframe tbody tr th:only-of-type {\n",
                            "        vertical-align: middle;\n",
                            "    }\n",
                            "\n",
                            "    .dataframe tbody tr th {\n",
                            "        vertical-align: top;\n",
                            "    }\n",
                            "\n",
                            "    .dataframe thead th {\n",
                            "        text-align: right;\n",
                            "    }\n",
                            "</style>\n",
                            "<table border=\"1\" class=\"dataframe\">\n",
                            "  <thead>\n",
                            "    <tr style=\"text-align: right;\">\n",
                            "      <th></th>\n",
                            "      <th>Uniq Id</th>\n",
                            "      <th>Crawl Timestamp</th>\n",
                            "      <th>Product Url</th>\n",
                            "      <th>Product Name</th>\n",
                            "      <th>Description</th>\n",
                            "      <th>List Price</th>\n",
                            "      <th>Sale Price</th>\n",
                            "      <th>Brand</th>\n",
                            "      <th>Item Number</th>\n",
                            "      <th>Gtin</th>\n",
                            "      <th>Package Size</th>\n",
                            "      <th>Category</th>\n",
                            "      <th>Postal Code</th>\n",
                            "      <th>Available</th>\n",
                            "    </tr>\n",
                            "  </thead>\n",
                            "  <tbody>\n",
                            "    <tr>\n",
                            "      <th>0</th>\n",
                            "      <td>019b67ef7f01103d8fb0a53e4c36daa7</td>\n",
                            "      <td>2019-12-18 10:20:52 +0000</td>\n",
                            "      <td>https://www.walmart.com/ip/La-Costena-Chipotle...</td>\n",
                            "      <td>La Costena Chipotle Peppers, 7 OZ (Pack of 12)</td>\n",
                            "      <td>We aim to show you accurate product informati...</td>\n",
                            "      <td>31.93</td>\n",
                            "      <td>31.93</td>\n",
                            "      <td>La Costeï¿½ï¿½a</td>\n",
                            "      <td>NaN</td>\n",
                            "      <td>139941530</td>\n",
                            "      <td>NaN</td>\n",
                            "      <td>Food | Meal Solutions, Grains &amp; Pasta | Canned...</td>\n",
                            "      <td>NaN</td>\n",
                            "      <td>True</td>\n",
                            "    </tr>\n",
                            "    <tr>\n",
                            "      <th>1</th>\n",
                            "      <td>3a4ff306dcc8a6e2bf720964d29b84c3</td>\n",
                            "      <td>2019-12-18 17:21:48 +0000</td>\n",
                            "      <td>https://www.walmart.com/ip/Equate-Triamcinolon...</td>\n",
                            "      <td>Equate Triamcinolone Acetonide Nasal Allergy S...</td>\n",
                            "      <td>We aim to show you accurate product informati...</td>\n",
                            "      <td>10.48</td>\n",
                            "      <td>10.48</td>\n",
                            "      <td>Equate</td>\n",
                            "      <td>569045548.0</td>\n",
                            "      <td>632775553</td>\n",
                            "      <td>NaN</td>\n",
                            "      <td>Health | Equate | Equate Allergy | Equate Sinu...</td>\n",
                            "      <td>NaN</td>\n",
                            "      <td>True</td>\n",
                            "    </tr>\n",
                            "    <tr>\n",
                            "      <th>2</th>\n",
                            "      <td>80090549d7d176327b186353c7b28ca4</td>\n",
                            "      <td>2019-12-18 17:46:41 +0000</td>\n",
                            "      <td>https://www.walmart.com/ip/AduroSmart-ERIA-Sof...</td>\n",
                            "      <td>AduroSmart ERIA Soft White Smart A19 Light Bul...</td>\n",
                            "      <td>We aim to show you accurate product informati...</td>\n",
                            "      <td>10.99</td>\n",
                            "      <td>10.99</td>\n",
                            "      <td>AduroSmart ERIA</td>\n",
                            "      <td>568068849.0</td>\n",
                            "      <td>281487005</td>\n",
                            "      <td>NaN</td>\n",
                            "      <td>Electronics | Smart Home | Smart Energy and Li...</td>\n",
                            "      <td>NaN</td>\n",
                            "      <td>True</td>\n",
                            "    </tr>\n",
                            "    <tr>\n",
                            "      <th>3</th>\n",
                            "      <td>151ee1c61a29bacfedb01cd500494b2f</td>\n",
                            "      <td>2019-12-18 22:14:22 +0000</td>\n",
                            "      <td>https://www.walmart.com/ip/24-Classic-Adjustab...</td>\n",
                            "      <td>24\" Classic Adjustable Balloon Fender Set Chro...</td>\n",
                            "      <td>We aim to show you accurate product informati...</td>\n",
                            "      <td>38.59</td>\n",
                            "      <td>38.59</td>\n",
                            "      <td>lowrider</td>\n",
                            "      <td>NaN</td>\n",
                            "      <td>133714060</td>\n",
                            "      <td>NaN</td>\n",
                            "      <td>Sports &amp; Outdoors | Bikes | Bike Accessories |...</td>\n",
                            "      <td>NaN</td>\n",
                            "      <td>True</td>\n",
                            "    </tr>\n",
                            "    <tr>\n",
                            "      <th>4</th>\n",
                            "      <td>7b2ef8d41f65df121f6b4b9828cf8dad</td>\n",
                            "      <td>2019-12-18 06:56:02 +0000</td>\n",
                            "      <td>https://www.walmart.com/ip/Elephant-Shape-Sili...</td>\n",
                            "      <td>Elephant Shape Silicone Drinkware Portable Sil...</td>\n",
                            "      <td>We aim to show you accurate product informati...</td>\n",
                            "      <td>5.81</td>\n",
                            "      <td>5.81</td>\n",
                            "      <td>Anself</td>\n",
                            "      <td>NaN</td>\n",
                            "      <td>104042139</td>\n",
                            "      <td>NaN</td>\n",
                            "      <td>Baby | Feeding | Sippy Cups: Alternatives to P...</td>\n",
                            "      <td>NaN</td>\n",
                            "      <td>True</td>\n",
                            "    </tr>\n",
                            "  </tbody>\n",
                            "</table>\n",
                            "</div>"
                        ],
                        "text/plain": [
                            "                            Uniq Id            Crawl Timestamp  \\\n",
                            "0  019b67ef7f01103d8fb0a53e4c36daa7  2019-12-18 10:20:52 +0000   \n",
                            "1  3a4ff306dcc8a6e2bf720964d29b84c3  2019-12-18 17:21:48 +0000   \n",
                            "2  80090549d7d176327b186353c7b28ca4  2019-12-18 17:46:41 +0000   \n",
                            "3  151ee1c61a29bacfedb01cd500494b2f  2019-12-18 22:14:22 +0000   \n",
                            "4  7b2ef8d41f65df121f6b4b9828cf8dad  2019-12-18 06:56:02 +0000   \n",
                            "\n",
                            "                                         Product Url  \\\n",
                            "0  https://www.walmart.com/ip/La-Costena-Chipotle...   \n",
                            "1  https://www.walmart.com/ip/Equate-Triamcinolon...   \n",
                            "2  https://www.walmart.com/ip/AduroSmart-ERIA-Sof...   \n",
                            "3  https://www.walmart.com/ip/24-Classic-Adjustab...   \n",
                            "4  https://www.walmart.com/ip/Elephant-Shape-Sili...   \n",
                            "\n",
                            "                                        Product Name  \\\n",
                            "0     La Costena Chipotle Peppers, 7 OZ (Pack of 12)   \n",
                            "1  Equate Triamcinolone Acetonide Nasal Allergy S...   \n",
                            "2  AduroSmart ERIA Soft White Smart A19 Light Bul...   \n",
                            "3  24\" Classic Adjustable Balloon Fender Set Chro...   \n",
                            "4  Elephant Shape Silicone Drinkware Portable Sil...   \n",
                            "\n",
                            "                                         Description  List Price  Sale Price  \\\n",
                            "0   We aim to show you accurate product informati...       31.93       31.93   \n",
                            "1   We aim to show you accurate product informati...       10.48       10.48   \n",
                            "2   We aim to show you accurate product informati...       10.99       10.99   \n",
                            "3   We aim to show you accurate product informati...       38.59       38.59   \n",
                            "4   We aim to show you accurate product informati...        5.81        5.81   \n",
                            "\n",
                            "             Brand  Item Number       Gtin  Package Size  \\\n",
                            "0  La Costeï¿½ï¿½a          NaN  139941530           NaN   \n",
                            "1           Equate  569045548.0  632775553           NaN   \n",
                            "2  AduroSmart ERIA  568068849.0  281487005           NaN   \n",
                            "3         lowrider          NaN  133714060           NaN   \n",
                            "4           Anself          NaN  104042139           NaN   \n",
                            "\n",
                            "                                            Category  Postal Code  Available  \n",
                            "0  Food | Meal Solutions, Grains & Pasta | Canned...          NaN       True  \n",
                            "1  Health | Equate | Equate Allergy | Equate Sinu...          NaN       True  \n",
                            "2  Electronics | Smart Home | Smart Energy and Li...          NaN       True  \n",
                            "3  Sports & Outdoors | Bikes | Bike Accessories |...          NaN       True  \n",
                            "4  Baby | Feeding | Sippy Cups: Alternatives to P...          NaN       True  "
                        ]
                    },
                    "execution_count": 4,
                    "metadata": {},
                    "output_type": "execute_result"
                }
            ],
            "source": [
                "df.head(5)"
            ]
        },
        {
            "cell_type": "markdown",
            "metadata": {},
            "source": [
                "### Let's see the column names"
            ]
        },
        {
            "cell_type": "code",
            "execution_count": 5,
            "metadata": {},
            "outputs": [
                {
                    "data": {
                        "text/plain": [
                            "Index(['Uniq Id', 'Crawl Timestamp', 'Product Url', 'Product Name',\n",
                            "       'Description', 'List Price', 'Sale Price', 'Brand', 'Item Number',\n",
                            "       'Gtin', 'Package Size', 'Category', 'Postal Code', 'Available'],\n",
                            "      dtype='object')"
                        ]
                    },
                    "execution_count": 5,
                    "metadata": {},
                    "output_type": "execute_result"
                }
            ],
            "source": [
                "df.columns"
            ]
        },
        {
            "cell_type": "markdown",
            "metadata": {},
            "source": [
                "### Let's have a look on the shape of the dataset"
            ]
        },
        {
            "cell_type": "code",
            "execution_count": 6,
            "metadata": {},
            "outputs": [
                {
                    "name": "stdout",
                    "output_type": "stream",
                    "text": [
                        "The Number of Rows are 30000, and columns are 14.\n"
                    ]
                }
            ],
            "source": [
                "print(f\"The Number of Rows are {df.shape[0]}, and columns are {df.shape[1]}.\")"
            ]
        },
        {
            "cell_type": "markdown",
            "metadata": {},
            "source": [
                "### Let's have a look on the columns and their data types using detailed info function"
            ]
        },
        {
            "cell_type": "code",
            "execution_count": 7,
            "metadata": {},
            "outputs": [
                {
                    "name": "stdout",
                    "output_type": "stream",
                    "text": [
                        "<class 'pandas.core.frame.DataFrame'>\n",
                        "RangeIndex: 30000 entries, 0 to 29999\n",
                        "Data columns (total 14 columns):\n",
                        " #   Column           Non-Null Count  Dtype  \n",
                        "---  ------           --------------  -----  \n",
                        " 0   Uniq Id          30000 non-null  object \n",
                        " 1   Crawl Timestamp  30000 non-null  object \n",
                        " 2   Product Url      30000 non-null  object \n",
                        " 3   Product Name     30000 non-null  object \n",
                        " 4   Description      29947 non-null  object \n",
                        " 5   List Price       30000 non-null  float64\n",
                        " 6   Sale Price       30000 non-null  float64\n",
                        " 7   Brand            29436 non-null  object \n",
                        " 8   Item Number      8875 non-null   float64\n",
                        " 9   Gtin             30000 non-null  int64  \n",
                        " 10  Package Size     0 non-null      float64\n",
                        " 11  Category         29983 non-null  object \n",
                        " 12  Postal Code      0 non-null      float64\n",
                        " 13  Available        30000 non-null  bool   \n",
                        "dtypes: bool(1), float64(5), int64(1), object(7)\n",
                        "memory usage: 3.0+ MB\n"
                    ]
                }
            ],
            "source": [
                "df.info()"
            ]
        },
        {
            "cell_type": "markdown",
            "metadata": {},
            "source": [
                "### Count the missing values"
            ]
        },
        {
            "cell_type": "code",
            "execution_count": 8,
            "metadata": {},
            "outputs": [
                {
                    "data": {
                        "text/plain": [
                            "Uniq Id                0\n",
                            "Crawl Timestamp        0\n",
                            "Product Url            0\n",
                            "Product Name           0\n",
                            "Description           53\n",
                            "List Price             0\n",
                            "Sale Price             0\n",
                            "Brand                564\n",
                            "Item Number        21125\n",
                            "Gtin                   0\n",
                            "Package Size       30000\n",
                            "Category              17\n",
                            "Postal Code        30000\n",
                            "Available              0\n",
                            "dtype: int64"
                        ]
                    },
                    "execution_count": 8,
                    "metadata": {},
                    "output_type": "execute_result"
                }
            ],
            "source": [
                "df.isnull().sum()"
            ]
        },
        {
            "cell_type": "markdown",
            "metadata": {},
            "source": [
                "## Cleaning Data"
            ]
        },
        {
            "cell_type": "markdown",
            "metadata": {},
            "source": [
                "### First Step of Cleaning"
            ]
        },
        {
            "cell_type": "markdown",
            "metadata": {},
            "source": [
                "### Second Step of Cleaning"
            ]
        },
        {
            "cell_type": "markdown",
            "metadata": {},
            "source": [
                "### Third Step of Cleaning"
            ]
        },
        {
            "cell_type": "markdown",
            "metadata": {},
            "source": [
                "### Fourth Step of Cleaning"
            ]
        },
        {
            "cell_type": "markdown",
            "metadata": {},
            "source": [
                "### Fifth Step of Cleaning"
            ]
        },
        {
            "cell_type": "markdown",
            "metadata": {},
            "source": [
                "### Restructure dateframe order."
            ]
        },
        {
            "cell_type": "code",
            "execution_count": null,
            "metadata": {},
            "outputs": [],
            "source": [
                "# Fill in restructureed dateframe format for desired look of data.  "
            ]
        },
        {
            "cell_type": "markdown",
            "metadata": {},
            "source": [
                "## Analytical Questions"
            ]
        },
        {
            "cell_type": "markdown",
            "metadata": {},
            "source": [
                "Analysis Subject 1\n",
                "\n",
                "1. \n",
                "\n",
                "2. \n",
                "\n",
                "3. \n",
                "\n",
                "4. \n",
                "\n",
                "5. \n",
                "\n",
                "Analysis Subject 2\n",
                "\n",
                "6. \n",
                "\n",
                "7. \n",
                "\n",
                "8. \n",
                "\n",
                "9. \n",
                "\n",
                "10. \n"
            ]
        },
        {
            "cell_type": "markdown",
            "metadata": {},
            "source": [
                "## Summary"
            ]
        },
        {
            "cell_type": "markdown",
            "metadata": {},
            "source": [
                "## Contact Information"
            ]
        },
        {
            "cell_type": "markdown",
            "metadata": {},
            "source": [
                "Click on link below to contact/follow/correct me:\n",
                "\n",
                "Email: joshua.farara@gmail.com\n",
                "\n",
                "[LinkedIn](https://www.linkedin.com/in/joshuafarara/)\n",
                "\n",
                "[Facebook](https://www.facebook.com/josh.farara/)\n",
                "\n",
                "[Twitter](https://x.com/FararaTheArtist)\n",
                "\n",
                "[Github](https://github.com/JoshuaFarara)\n"
            ]
        }
    ],
    "metadata": {
        "kernelspec": {
            "display_name": "venv",
            "language": "python",
            "name": "python3"
        },
        "language_info": {
            "codemirror_mode": {
                "name": "ipython",
                "version": 3
            },
            "file_extension": ".py",
            "mimetype": "text/x-python",
            "name": "python",
            "nbconvert_exporter": "python",
            "pygments_lexer": "ipython3",
            "version": "3.11.7"
        }
    },
    "nbformat": 4,
    "nbformat_minor": 5
}
