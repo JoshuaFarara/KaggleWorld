{
    "cells": [
        {
            "cell_type": "markdown",
            "metadata": {},
            "source": [
                "# Testing Structure\n",
                "![image_name](./assets/image_name.png \"alt-image_name!\")\n"
            ]
        },
        {
            "cell_type": "markdown",
            "metadata": {},
            "source": [
                "## About Author\n",
                "Author: Joshua Farara\n",
                "Project: Testing Structure\n",
                "### Contact Info\n",
                "Click on link below to contact/follow/correct me:\n",
                "Email: joshua.farara@gmail.com\n",
                "[LinkedIn](https://www.linkedin.com/in/joshuafarara/)\n",
                "[Facebook](https://www.facebook.com/josh.farara/)\n",
                "[Twitter](https://x.com/FararaTheArtist)\n",
                "[Github](https://github.com/JoshuaFarara)\n"
            ]
        },
        {
            "cell_type": "markdown",
            "metadata": {},
            "source": [
                "## About Data\n",
                "Title: Dataset Title\n",
                "Dataset: Link\n",
                "Brief Description of dataset\n",
                "### Dataset Columns Names\n",
                "Features:\n",
                "### Metadata\n",
                "Source:\n",
                "Collection Methodology:\n",
                "License:\n",
                "### Task\n",
                "Describe task at hand for this dataset.\n",
                "### Objectives\n",
                "Describe objective at had for this dataset.\n",
                "### Kernel Version Used\n",
                "Python==3.11.7\n"
            ]
        },
        {
            "cell_type": "markdown",
            "metadata": {},
            "source": [
                "## Import Libraries\n",
                "We will use the following libraries\n",
                "1. Pandas: Data manipulation and analysis\n",
                "2. Numpy: Numerical operations and calculations\n",
                "3. Matplotlib: Data visualization and plotting\n",
                "4. Seaborn: Enhanced data visualization and statistical graphics\n",
                "5. Scipy: Scientific computing and advanced mathematical operations\n",
                "```python\n",
                "import pandas as pd\n",
                "import numpy as np\n",
                "import matplotlib.pyplot as plt\n",
                "import seaborn as sns\n",
                "import scipy as sp\n",
                "# this is for jupyter notebook to show the plot in the notebook itself instead of opening a new window\n",
                "%matplotlib inline\n",
                "```\n"
            ]
        },
        {
            "cell_type": "markdown",
            "metadata": {},
            "source": [
                "## Data Loading and Exploration | Cleaning\n",
                "### Load a CSV file then creating a dataframe\n",
                "### Set the option to show maximum columns\n",
                "### Get a sneak peek of data\n",
                "The purpose of a sneak peek is to get a quick overview of the data and identify any potential problems or areas of interest\n",
                "```python\n",
                "df.head(5)\n",
                "```\n",
                "### Let's see the column names\n",
                "### Let's have a look on the shape of the dataset\n",
                "```python\n",
                "print(f\"The Number of Rows are {df.shape[0]}, and columns are {df.shape[1]}.\")\n",
                "```\n",
                "### Let's have a look on the columns and their data types using detailed info function\n",
                "```python\n",
                "df.info()\n",
                "```\n"
            ]
        }
    ],
    "metadata": {},
    "nbformat": 4,
    "nbformat_minor": 5
}