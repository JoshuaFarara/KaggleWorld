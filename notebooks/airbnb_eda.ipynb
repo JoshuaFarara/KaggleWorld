{
    "cells": [
        {
            "cell_type": "markdown",
            "id": "ea2622c5",
            "metadata": {},
            "source": [
                "# Airbnb EDA\n",
                "![image_name](../assets/working-at-airbnb.jpg \"alt-image_name!\")\n"
            ]
        },
        {
            "cell_type": "markdown",
            "id": "3eef9296",
            "metadata": {},
            "source": [
                "## About Author\n",
                "Author: Joshua Farara\n",
                "\n",
                "Project: Airbnb EDA\n",
                "### Contact Info\n",
                "Click on link below to contact/follow/correct me:\n",
                "\n",
                "Email: joshua.farara@gmail.com\n",
                "\n",
                "[LinkedIn](https://www.linkedin.com/in/joshuafarara/)\n",
                "\n",
                "[Facebook](https://www.facebook.com/josh.farara/)\n",
                "\n",
                "[Twitter](https://x.com/FararaTheArtist)\n",
                "\n",
                "[Github](https://github.com/JoshuaFarara)\n"
            ]
        },
        {
            "cell_type": "markdown",
            "id": "9d91e45d",
            "metadata": {},
            "source": [
                "## About Data\n",
                "\n",
                "Title: AirBNB_Data\n",
                "\n",
                "Dataset: [Link](https://www.kaggle.com/datasets/paramvir705/airbnb-data)\n",
                "\n",
                "Brief Description of dataset"
            ]
        },
        {
            "cell_type": "markdown",
            "id": "4ac5f88c",
            "metadata": {},
            "source": [
                "### Dataset Columns Names\n",
                "\n",
                "Features:\n",
                "\n",
                "- `id`\n",
                "- `log_price`\n",
                "- `property_type`\n",
                "- `room_type`\n",
                "- `amenities`\n",
                "- `accommodates`\n",
                "- `bathrooms`\n",
                "- `bed_type`\n",
                "- `cancellation_policy`\n",
                "- `cleaning_fee`\n",
                "- `city`\n",
                "- `description`\n",
                "- `first_review`\n",
                "- `host_has_profile_pic`\n",
                "- `host_identity_verified`\n",
                "- `host_response_rate`\n",
                "- `host_since`\n",
                "- `instant_bookable`\n",
                "- `last_review`\n",
                "- `latitude`\n",
                "- `longitude`\n",
                "- `name`\n",
                "- `neighbourhood`\n",
                "- `number_of_reviews`\n",
                "- `review_scores_rating`\n",
                "- `thumbnail_url`\n",
                "- `zipcode`\n",
                "- `bedrooms`\n",
                "- `beds`\n"
            ]
        },
        {
            "cell_type": "markdown",
            "id": "de285511",
            "metadata": {},
            "source": [
                "### Metadata\n",
                "\n",
                "Author/Collaborators: Paramvir_705 (Owner)\n",
                "\n",
                "Source: Google websites\n",
                "\n",
                "Collection Methodology: Web scrapping\n",
                "\n",
                "License: Apache 2.0"
            ]
        },
        {
            "cell_type": "markdown",
            "id": "53282b15",
            "metadata": {},
            "source": [
                "### Task\n",
                "Describe task"
            ]
        },
        {
            "cell_type": "markdown",
            "id": "156cb79f",
            "metadata": {},
            "source": [
                "### Objective\n",
                "\n",
                "Describe observed objective of dataset."
            ]
        },
        {
            "cell_type": "markdown",
            "id": "0c3efbd8",
            "metadata": {},
            "source": [
                "### Kernel Version Used\n",
                "\n",
                "Python==3.11.7\n"
            ]
        },
        {
            "cell_type": "markdown",
            "id": "b76a076e",
            "metadata": {},
            "source": [
                "## Import Libraries\n",
                "We will use the following libraries\n",
                "1. Pandas: Data manipulation and analysis\n",
                "2. Numpy: Numerical operations and calculations\n",
                "3. Matplotlib: Data visualization and plotting\n",
                "4. Seaborn: Enhanced data visualization and statistical graphics\n",
                "5. Scipy: Scientific computing and advanced mathematical operations\n"
            ]
        },
        {
            "cell_type": "code",
            "execution_count": 2,
            "id": "1c54bf84",
            "metadata": {},
            "outputs": [],
            "source": [
                "import pandas as pd\n",
                "import numpy as np\n",
                "import matplotlib.pyplot as plt\n",
                "import seaborn as sns\n",
                "import scipy as sp\n",
                "import os\n",
                "import sys\n",
                "# this is for jupyter notebook to show the plot in the notebook itself instead of opening a new window\n",
                "%matplotlib inline\n",
                "\n",
                "for dirname, _, filenames in os.walk('/kaggle/input'):\n",
                "   for filename in filenames:\n",
                "       print(os.path.join(dirname, filename))\n",
                "# You can write up to 20GB to the current directory (/kaggle/working/) that gets preserved as output when you create a version using\n",
                "# You can also write temporary files to /kaggle/temp/, but they won't be saved outside of the current session\n"
            ]
        },
        {
            "cell_type": "markdown",
            "id": "14afac79",
            "metadata": {},
            "source": [
                "## Data Loading and Exploration | Cleaning"
            ]
        },
        {
            "cell_type": "markdown",
            "id": "30b1d259",
            "metadata": {},
            "source": [
                "### Load a CSV file then creating a dataframe"
            ]
        },
        {
            "cell_type": "code",
            "execution_count": 3,
            "id": "dce0bdb3",
            "metadata": {},
            "outputs": [],
            "source": [
                "# Kaggle Notebook\n",
                "# df = pd.read_csv('/kaggle/input/coffee-sales/index.csv')\n",
                "\n",
                "# Local Machine Notebook\n",
                "df = pd.read_csv('../data/Airbnb_Data.csv')\n"
            ]
        },
        {
            "cell_type": "markdown",
            "id": "fba3517b",
            "metadata": {},
            "source": [
                "### Set the option to show maximum columns"
            ]
        },
        {
            "cell_type": "code",
            "execution_count": 4,
            "id": "176fa467",
            "metadata": {},
            "outputs": [],
            "source": [
                "pd.set_option('display.max_columns', None)\n",
                "pd.set_option('display.max_rows', None)\n"
            ]
        },
        {
            "cell_type": "markdown",
            "id": "83eb9c00",
            "metadata": {},
            "source": [
                "### Get a sneak peek of data\n",
                "The purpose of a sneak peek is to get a quick overview of the data and identify any potential problems or areas of interest\n"
            ]
        },
        {
            "cell_type": "code",
            "execution_count": 5,
            "id": "ba828299",
            "metadata": {},
            "outputs": [
                {
                    "data": {
                        "text/html": [
                            "<div>\n",
                            "<style scoped>\n",
                            "    .dataframe tbody tr th:only-of-type {\n",
                            "        vertical-align: middle;\n",
                            "    }\n",
                            "\n",
                            "    .dataframe tbody tr th {\n",
                            "        vertical-align: top;\n",
                            "    }\n",
                            "\n",
                            "    .dataframe thead th {\n",
                            "        text-align: right;\n",
                            "    }\n",
                            "</style>\n",
                            "<table border=\"1\" class=\"dataframe\">\n",
                            "  <thead>\n",
                            "    <tr style=\"text-align: right;\">\n",
                            "      <th></th>\n",
                            "      <th>id</th>\n",
                            "      <th>log_price</th>\n",
                            "      <th>property_type</th>\n",
                            "      <th>room_type</th>\n",
                            "      <th>amenities</th>\n",
                            "      <th>accommodates</th>\n",
                            "      <th>bathrooms</th>\n",
                            "      <th>bed_type</th>\n",
                            "      <th>cancellation_policy</th>\n",
                            "      <th>cleaning_fee</th>\n",
                            "      <th>city</th>\n",
                            "      <th>description</th>\n",
                            "      <th>first_review</th>\n",
                            "      <th>host_has_profile_pic</th>\n",
                            "      <th>host_identity_verified</th>\n",
                            "      <th>host_response_rate</th>\n",
                            "      <th>host_since</th>\n",
                            "      <th>instant_bookable</th>\n",
                            "      <th>last_review</th>\n",
                            "      <th>latitude</th>\n",
                            "      <th>longitude</th>\n",
                            "      <th>name</th>\n",
                            "      <th>neighbourhood</th>\n",
                            "      <th>number_of_reviews</th>\n",
                            "      <th>review_scores_rating</th>\n",
                            "      <th>thumbnail_url</th>\n",
                            "      <th>zipcode</th>\n",
                            "      <th>bedrooms</th>\n",
                            "      <th>beds</th>\n",
                            "    </tr>\n",
                            "  </thead>\n",
                            "  <tbody>\n",
                            "    <tr>\n",
                            "      <th>0</th>\n",
                            "      <td>6901257</td>\n",
                            "      <td>5.010635</td>\n",
                            "      <td>Apartment</td>\n",
                            "      <td>Entire home/apt</td>\n",
                            "      <td>{\"Wireless Internet\",\"Air conditioning\",Kitche...</td>\n",
                            "      <td>3</td>\n",
                            "      <td>1.0</td>\n",
                            "      <td>Real Bed</td>\n",
                            "      <td>strict</td>\n",
                            "      <td>True</td>\n",
                            "      <td>NYC</td>\n",
                            "      <td>Beautiful, sunlit brownstone 1-bedroom in the ...</td>\n",
                            "      <td>2016-06-18</td>\n",
                            "      <td>t</td>\n",
                            "      <td>t</td>\n",
                            "      <td>NaN</td>\n",
                            "      <td>2012-03-26</td>\n",
                            "      <td>f</td>\n",
                            "      <td>2016-07-18</td>\n",
                            "      <td>40.696524</td>\n",
                            "      <td>-73.991617</td>\n",
                            "      <td>Beautiful brownstone 1-bedroom</td>\n",
                            "      <td>Brooklyn Heights</td>\n",
                            "      <td>2</td>\n",
                            "      <td>100.0</td>\n",
                            "      <td>https://a0.muscache.com/im/pictures/6d7cbbf7-c...</td>\n",
                            "      <td>11201</td>\n",
                            "      <td>1.0</td>\n",
                            "      <td>1.0</td>\n",
                            "    </tr>\n",
                            "    <tr>\n",
                            "      <th>1</th>\n",
                            "      <td>6304928</td>\n",
                            "      <td>5.129899</td>\n",
                            "      <td>Apartment</td>\n",
                            "      <td>Entire home/apt</td>\n",
                            "      <td>{\"Wireless Internet\",\"Air conditioning\",Kitche...</td>\n",
                            "      <td>7</td>\n",
                            "      <td>1.0</td>\n",
                            "      <td>Real Bed</td>\n",
                            "      <td>strict</td>\n",
                            "      <td>True</td>\n",
                            "      <td>NYC</td>\n",
                            "      <td>Enjoy travelling during your stay in Manhattan...</td>\n",
                            "      <td>2017-08-05</td>\n",
                            "      <td>t</td>\n",
                            "      <td>f</td>\n",
                            "      <td>100%</td>\n",
                            "      <td>2017-06-19</td>\n",
                            "      <td>t</td>\n",
                            "      <td>2017-09-23</td>\n",
                            "      <td>40.766115</td>\n",
                            "      <td>-73.989040</td>\n",
                            "      <td>Superb 3BR Apt Located Near Times Square</td>\n",
                            "      <td>Hell's Kitchen</td>\n",
                            "      <td>6</td>\n",
                            "      <td>93.0</td>\n",
                            "      <td>https://a0.muscache.com/im/pictures/348a55fe-4...</td>\n",
                            "      <td>10019</td>\n",
                            "      <td>3.0</td>\n",
                            "      <td>3.0</td>\n",
                            "    </tr>\n",
                            "    <tr>\n",
                            "      <th>2</th>\n",
                            "      <td>7919400</td>\n",
                            "      <td>4.976734</td>\n",
                            "      <td>Apartment</td>\n",
                            "      <td>Entire home/apt</td>\n",
                            "      <td>{TV,\"Cable TV\",\"Wireless Internet\",\"Air condit...</td>\n",
                            "      <td>5</td>\n",
                            "      <td>1.0</td>\n",
                            "      <td>Real Bed</td>\n",
                            "      <td>moderate</td>\n",
                            "      <td>True</td>\n",
                            "      <td>NYC</td>\n",
                            "      <td>The Oasis comes complete with a full backyard ...</td>\n",
                            "      <td>2017-04-30</td>\n",
                            "      <td>t</td>\n",
                            "      <td>t</td>\n",
                            "      <td>100%</td>\n",
                            "      <td>2016-10-25</td>\n",
                            "      <td>t</td>\n",
                            "      <td>2017-09-14</td>\n",
                            "      <td>40.808110</td>\n",
                            "      <td>-73.943756</td>\n",
                            "      <td>The Garden Oasis</td>\n",
                            "      <td>Harlem</td>\n",
                            "      <td>10</td>\n",
                            "      <td>92.0</td>\n",
                            "      <td>https://a0.muscache.com/im/pictures/6fae5362-9...</td>\n",
                            "      <td>10027</td>\n",
                            "      <td>1.0</td>\n",
                            "      <td>3.0</td>\n",
                            "    </tr>\n",
                            "    <tr>\n",
                            "      <th>3</th>\n",
                            "      <td>13418779</td>\n",
                            "      <td>6.620073</td>\n",
                            "      <td>House</td>\n",
                            "      <td>Entire home/apt</td>\n",
                            "      <td>{TV,\"Cable TV\",Internet,\"Wireless Internet\",Ki...</td>\n",
                            "      <td>4</td>\n",
                            "      <td>1.0</td>\n",
                            "      <td>Real Bed</td>\n",
                            "      <td>flexible</td>\n",
                            "      <td>True</td>\n",
                            "      <td>SF</td>\n",
                            "      <td>This light-filled home-away-from-home is super...</td>\n",
                            "      <td>NaN</td>\n",
                            "      <td>t</td>\n",
                            "      <td>t</td>\n",
                            "      <td>NaN</td>\n",
                            "      <td>2015-04-19</td>\n",
                            "      <td>f</td>\n",
                            "      <td>NaN</td>\n",
                            "      <td>37.772004</td>\n",
                            "      <td>-122.431619</td>\n",
                            "      <td>Beautiful Flat in the Heart of SF!</td>\n",
                            "      <td>Lower Haight</td>\n",
                            "      <td>0</td>\n",
                            "      <td>NaN</td>\n",
                            "      <td>https://a0.muscache.com/im/pictures/72208dad-9...</td>\n",
                            "      <td>94117.0</td>\n",
                            "      <td>2.0</td>\n",
                            "      <td>2.0</td>\n",
                            "    </tr>\n",
                            "    <tr>\n",
                            "      <th>4</th>\n",
                            "      <td>3808709</td>\n",
                            "      <td>4.744932</td>\n",
                            "      <td>Apartment</td>\n",
                            "      <td>Entire home/apt</td>\n",
                            "      <td>{TV,Internet,\"Wireless Internet\",\"Air conditio...</td>\n",
                            "      <td>2</td>\n",
                            "      <td>1.0</td>\n",
                            "      <td>Real Bed</td>\n",
                            "      <td>moderate</td>\n",
                            "      <td>True</td>\n",
                            "      <td>DC</td>\n",
                            "      <td>Cool, cozy, and comfortable studio located in ...</td>\n",
                            "      <td>2015-05-12</td>\n",
                            "      <td>t</td>\n",
                            "      <td>t</td>\n",
                            "      <td>100%</td>\n",
                            "      <td>2015-03-01</td>\n",
                            "      <td>t</td>\n",
                            "      <td>2017-01-22</td>\n",
                            "      <td>38.925627</td>\n",
                            "      <td>-77.034596</td>\n",
                            "      <td>Great studio in midtown DC</td>\n",
                            "      <td>Columbia Heights</td>\n",
                            "      <td>4</td>\n",
                            "      <td>40.0</td>\n",
                            "      <td>NaN</td>\n",
                            "      <td>20009</td>\n",
                            "      <td>0.0</td>\n",
                            "      <td>1.0</td>\n",
                            "    </tr>\n",
                            "  </tbody>\n",
                            "</table>\n",
                            "</div>"
                        ],
                        "text/plain": [
                            "         id  log_price property_type        room_type  \\\n",
                            "0   6901257   5.010635     Apartment  Entire home/apt   \n",
                            "1   6304928   5.129899     Apartment  Entire home/apt   \n",
                            "2   7919400   4.976734     Apartment  Entire home/apt   \n",
                            "3  13418779   6.620073         House  Entire home/apt   \n",
                            "4   3808709   4.744932     Apartment  Entire home/apt   \n",
                            "\n",
                            "                                           amenities  accommodates  bathrooms  \\\n",
                            "0  {\"Wireless Internet\",\"Air conditioning\",Kitche...             3        1.0   \n",
                            "1  {\"Wireless Internet\",\"Air conditioning\",Kitche...             7        1.0   \n",
                            "2  {TV,\"Cable TV\",\"Wireless Internet\",\"Air condit...             5        1.0   \n",
                            "3  {TV,\"Cable TV\",Internet,\"Wireless Internet\",Ki...             4        1.0   \n",
                            "4  {TV,Internet,\"Wireless Internet\",\"Air conditio...             2        1.0   \n",
                            "\n",
                            "   bed_type cancellation_policy  cleaning_fee city  \\\n",
                            "0  Real Bed              strict          True  NYC   \n",
                            "1  Real Bed              strict          True  NYC   \n",
                            "2  Real Bed            moderate          True  NYC   \n",
                            "3  Real Bed            flexible          True   SF   \n",
                            "4  Real Bed            moderate          True   DC   \n",
                            "\n",
                            "                                         description first_review  \\\n",
                            "0  Beautiful, sunlit brownstone 1-bedroom in the ...   2016-06-18   \n",
                            "1  Enjoy travelling during your stay in Manhattan...   2017-08-05   \n",
                            "2  The Oasis comes complete with a full backyard ...   2017-04-30   \n",
                            "3  This light-filled home-away-from-home is super...          NaN   \n",
                            "4  Cool, cozy, and comfortable studio located in ...   2015-05-12   \n",
                            "\n",
                            "  host_has_profile_pic host_identity_verified host_response_rate  host_since  \\\n",
                            "0                    t                      t                NaN  2012-03-26   \n",
                            "1                    t                      f               100%  2017-06-19   \n",
                            "2                    t                      t               100%  2016-10-25   \n",
                            "3                    t                      t                NaN  2015-04-19   \n",
                            "4                    t                      t               100%  2015-03-01   \n",
                            "\n",
                            "  instant_bookable last_review   latitude   longitude  \\\n",
                            "0                f  2016-07-18  40.696524  -73.991617   \n",
                            "1                t  2017-09-23  40.766115  -73.989040   \n",
                            "2                t  2017-09-14  40.808110  -73.943756   \n",
                            "3                f         NaN  37.772004 -122.431619   \n",
                            "4                t  2017-01-22  38.925627  -77.034596   \n",
                            "\n",
                            "                                       name     neighbourhood  \\\n",
                            "0            Beautiful brownstone 1-bedroom  Brooklyn Heights   \n",
                            "1  Superb 3BR Apt Located Near Times Square    Hell's Kitchen   \n",
                            "2                          The Garden Oasis            Harlem   \n",
                            "3        Beautiful Flat in the Heart of SF!      Lower Haight   \n",
                            "4                Great studio in midtown DC  Columbia Heights   \n",
                            "\n",
                            "   number_of_reviews  review_scores_rating  \\\n",
                            "0                  2                 100.0   \n",
                            "1                  6                  93.0   \n",
                            "2                 10                  92.0   \n",
                            "3                  0                   NaN   \n",
                            "4                  4                  40.0   \n",
                            "\n",
                            "                                       thumbnail_url  zipcode  bedrooms  beds  \n",
                            "0  https://a0.muscache.com/im/pictures/6d7cbbf7-c...    11201       1.0   1.0  \n",
                            "1  https://a0.muscache.com/im/pictures/348a55fe-4...    10019       3.0   3.0  \n",
                            "2  https://a0.muscache.com/im/pictures/6fae5362-9...    10027       1.0   3.0  \n",
                            "3  https://a0.muscache.com/im/pictures/72208dad-9...  94117.0       2.0   2.0  \n",
                            "4                                                NaN    20009       0.0   1.0  "
                        ]
                    },
                    "execution_count": 5,
                    "metadata": {},
                    "output_type": "execute_result"
                }
            ],
            "source": [
                "df.head(5)"
            ]
        },
        {
            "cell_type": "markdown",
            "id": "a130cb40",
            "metadata": {},
            "source": [
                "### Let's see the column names"
            ]
        },
        {
            "cell_type": "code",
            "execution_count": 6,
            "id": "4bbeea79",
            "metadata": {},
            "outputs": [
                {
                    "data": {
                        "text/plain": [
                            "Index(['id', 'log_price', 'property_type', 'room_type', 'amenities',\n",
                            "       'accommodates', 'bathrooms', 'bed_type', 'cancellation_policy',\n",
                            "       'cleaning_fee', 'city', 'description', 'first_review',\n",
                            "       'host_has_profile_pic', 'host_identity_verified', 'host_response_rate',\n",
                            "       'host_since', 'instant_bookable', 'last_review', 'latitude',\n",
                            "       'longitude', 'name', 'neighbourhood', 'number_of_reviews',\n",
                            "       'review_scores_rating', 'thumbnail_url', 'zipcode', 'bedrooms', 'beds'],\n",
                            "      dtype='object')"
                        ]
                    },
                    "execution_count": 6,
                    "metadata": {},
                    "output_type": "execute_result"
                }
            ],
            "source": [
                "df.columns"
            ]
        },
        {
            "cell_type": "markdown",
            "id": "91f5d329",
            "metadata": {},
            "source": [
                "### Let's have a look on the shape of the dataset"
            ]
        },
        {
            "cell_type": "code",
            "execution_count": null,
            "id": "aa2e5990",
            "metadata": {},
            "outputs": [],
            "source": [
                "print(f\"The Number of Rows are {df.shape[0]}, and columns are {df.shape[1]}.\")"
            ]
        },
        {
            "cell_type": "markdown",
            "id": "beb0472d",
            "metadata": {},
            "source": [
                "### Let's have a look on the columns and their data types using detailed info function"
            ]
        },
        {
            "cell_type": "code",
            "execution_count": null,
            "id": "7f5f93da",
            "metadata": {},
            "outputs": [],
            "source": [
                "df.info()"
            ]
        },
        {
            "cell_type": "markdown",
            "id": "70caa089",
            "metadata": {},
            "source": [
                "### Count the missing values"
            ]
        },
        {
            "cell_type": "code",
            "execution_count": null,
            "id": "cd4eed74",
            "metadata": {},
            "outputs": [],
            "source": [
                "df.isnull().sum()"
            ]
        },
        {
            "cell_type": "markdown",
            "id": "5cb483c4",
            "metadata": {},
            "source": [
                "## Cleaning Data"
            ]
        },
        {
            "cell_type": "markdown",
            "id": "233cf9f3",
            "metadata": {},
            "source": [
                "### First Step of Cleaning"
            ]
        },
        {
            "cell_type": "markdown",
            "id": "fb0dc463",
            "metadata": {},
            "source": [
                "### Second Step of Cleaning"
            ]
        },
        {
            "cell_type": "markdown",
            "id": "b67d6015",
            "metadata": {},
            "source": [
                "### Third Step of Cleaning"
            ]
        },
        {
            "cell_type": "markdown",
            "id": "3493c0d2",
            "metadata": {},
            "source": [
                "### Fourth Step of Cleaning"
            ]
        },
        {
            "cell_type": "markdown",
            "id": "2cd6d13b",
            "metadata": {},
            "source": [
                "### Fifth Step of Cleaning"
            ]
        },
        {
            "cell_type": "markdown",
            "id": "5bb76a39",
            "metadata": {},
            "source": [
                "### Restructure dateframe order."
            ]
        },
        {
            "cell_type": "code",
            "execution_count": null,
            "id": "ac1cd588",
            "metadata": {},
            "outputs": [],
            "source": [
                "# Fill in restructureed dateframe format for desired look of data.  "
            ]
        },
        {
            "cell_type": "markdown",
            "id": "022b75ca",
            "metadata": {},
            "source": [
                "## Analytical Questions"
            ]
        },
        {
            "cell_type": "markdown",
            "id": "1a7755cc",
            "metadata": {},
            "source": [
                "Analysis Subject 1\n",
                "\n",
                "1. \n",
                "\n",
                "2. \n",
                "\n",
                "3. \n",
                "\n",
                "4. \n",
                "\n",
                "5. \n",
                "\n",
                "Analysis Subject 2\n",
                "\n",
                "6. \n",
                "\n",
                "7. \n",
                "\n",
                "8. \n",
                "\n",
                "9. \n",
                "\n",
                "10. \n"
            ]
        },
        {
            "cell_type": "markdown",
            "metadata": {},
            "source": [
                "## Summary"
            ]
        },
        {
            "cell_type": "markdown",
            "metadata": {},
            "source": [
                "## Contact Information"
            ]
        },
        {
            "cell_type": "markdown",
            "metadata": {},
            "source": [
                "Click on link below to contact/follow/correct me:\n",
                "\n",
                "Email: joshua.farara@gmail.com\n",
                "\n",
                "[LinkedIn](https://www.linkedin.com/in/joshuafarara/)\n",
                "\n",
                "[Facebook](https://www.facebook.com/josh.farara/)\n",
                "\n",
                "[Twitter](https://x.com/FararaTheArtist)\n",
                "\n",
                "[Github](https://github.com/JoshuaFarara)\n"
            ]
        }
    ],
    "metadata": {
        "kernelspec": {
            "display_name": "venv",
            "language": "python",
            "name": "python3"
        },
        "language_info": {
            "codemirror_mode": {
                "name": "ipython",
                "version": 3
            },
            "file_extension": ".py",
            "mimetype": "text/x-python",
            "name": "python",
            "nbconvert_exporter": "python",
            "pygments_lexer": "ipython3",
            "version": "3.11.7"
        }
    },
    "nbformat": 4,
    "nbformat_minor": 5
}
