{
 "cells": [
  {
   "cell_type": "code",
   "execution_count": 1,
   "id": "4eee783e",
   "metadata": {
    "_cell_guid": "b1076dfc-b9ad-4769-8c92-a6c4dae69d19",
    "_uuid": "8f2839f25d086af736a60e9eeb907d3b93b6e0e5",
    "execution": {
     "iopub.execute_input": "2024-05-02T14:31:07.379432Z",
     "iopub.status.busy": "2024-05-02T14:31:07.379013Z",
     "iopub.status.idle": "2024-05-02T14:31:08.605598Z",
     "shell.execute_reply": "2024-05-02T14:31:08.604071Z"
    },
    "papermill": {
     "duration": 1.236246,
     "end_time": "2024-05-02T14:31:08.608316",
     "exception": false,
     "start_time": "2024-05-02T14:31:07.372070",
     "status": "completed"
    },
    "tags": []
   },
   "outputs": [],
   "source": [
    "# This Python 3 environment comes with many helpful analytics libraries installed\n",
    "# It is defined by the kaggle/python Docker image: https://github.com/kaggle/docker-python\n",
    "# For example, here's several helpful packages to load\n",
    "\n",
    "import numpy as np # linear algebra\n",
    "import pandas as pd # data processing, CSV file I/O (e.g. pd.read_csv)\n",
    "\n",
    "# pd.describe_option()\n",
    "# pd.set_option('display.width', 1000)\n",
    "pd.set_option(\"display.max_rows\", 999)\n",
    "# pd.set_option(\"max_colwidth\", 200)\n",
    "\n",
    "# Input data files are available in the read-only \"../input/\" directory\n",
    "# For example, running this (by clicking run or pressing Shift+Enter) will list all files under the input directory\n",
    "\n",
    "import os\n",
    "for dirname, _, filenames in os.walk('/kaggle/input'):\n",
    "    for filename in filenames:\n",
    "        print(os.path.join(dirname, filename))\n",
    "\n",
    "# You can write up to 20GB to the current directory (/kaggle/working/) that gets preserved as output when you create a version using \"Save & Run All\" \n",
    "# You can also write temporary files to /kaggle/temp/, but they won't be saved outside of the current session"
   ]
  },
  {
   "cell_type": "code",
   "execution_count": 2,
   "id": "cff3d573",
   "metadata": {
    "execution": {
     "iopub.execute_input": "2024-05-02T14:31:08.619878Z",
     "iopub.status.busy": "2024-05-02T14:31:08.619268Z",
     "iopub.status.idle": "2024-05-02T14:31:08.801944Z",
     "shell.execute_reply": "2024-05-02T14:31:08.800564Z"
    },
    "papermill": {
     "duration": 0.191474,
     "end_time": "2024-05-02T14:31:08.804843",
     "exception": false,
     "start_time": "2024-05-02T14:31:08.613369",
     "status": "completed"
    },
    "tags": []
   },
   "outputs": [],
   "source": [
    "# Kaggle Notebook\n",
    "amazon_df = pd.read_csv('/kaggle/input/amazon-sales-dataset/amazon.csv')\n",
    "\n",
    "#Local Machine Notebook\n",
    "# amazon_df = pd.read_csv('data/amazon.csv')"
   ]
  },
  {
   "cell_type": "code",
   "execution_count": 3,
   "id": "ce584ec4",
   "metadata": {
    "execution": {
     "iopub.execute_input": "2024-05-02T14:31:08.815366Z",
     "iopub.status.busy": "2024-05-02T14:31:08.814972Z",
     "iopub.status.idle": "2024-05-02T14:31:08.849329Z",
     "shell.execute_reply": "2024-05-02T14:31:08.848239Z"
    },
    "papermill": {
     "duration": 0.043507,
     "end_time": "2024-05-02T14:31:08.852801",
     "exception": false,
     "start_time": "2024-05-02T14:31:08.809294",
     "status": "completed"
    },
    "tags": []
   },
   "outputs": [
    {
     "name": "stdout",
     "output_type": "stream",
     "text": [
      "<class 'pandas.core.frame.DataFrame'>\n",
      "RangeIndex: 1465 entries, 0 to 1464\n",
      "Data columns (total 16 columns):\n",
      " #   Column               Non-Null Count  Dtype \n",
      "---  ------               --------------  ----- \n",
      " 0   product_id           1465 non-null   object\n",
      " 1   product_name         1465 non-null   object\n",
      " 2   category             1465 non-null   object\n",
      " 3   discounted_price     1465 non-null   object\n",
      " 4   actual_price         1465 non-null   object\n",
      " 5   discount_percentage  1465 non-null   object\n",
      " 6   rating               1465 non-null   object\n",
      " 7   rating_count         1463 non-null   object\n",
      " 8   about_product        1465 non-null   object\n",
      " 9   user_id              1465 non-null   object\n",
      " 10  user_name            1465 non-null   object\n",
      " 11  review_id            1465 non-null   object\n",
      " 12  review_title         1465 non-null   object\n",
      " 13  review_content       1465 non-null   object\n",
      " 14  img_link             1465 non-null   object\n",
      " 15  product_link         1465 non-null   object\n",
      "dtypes: object(16)\n",
      "memory usage: 183.2+ KB\n"
     ]
    }
   ],
   "source": [
    "amazon_df.info()\n"
   ]
  },
  {
   "cell_type": "code",
   "execution_count": 4,
   "id": "29d51b88",
   "metadata": {
    "execution": {
     "iopub.execute_input": "2024-05-02T14:31:08.863609Z",
     "iopub.status.busy": "2024-05-02T14:31:08.863193Z",
     "iopub.status.idle": "2024-05-02T14:31:08.889149Z",
     "shell.execute_reply": "2024-05-02T14:31:08.887938Z"
    },
    "papermill": {
     "duration": 0.034983,
     "end_time": "2024-05-02T14:31:08.892320",
     "exception": false,
     "start_time": "2024-05-02T14:31:08.857337",
     "status": "completed"
    },
    "tags": []
   },
   "outputs": [
    {
     "data": {
      "text/html": [
       "<div>\n",
       "<style scoped>\n",
       "    .dataframe tbody tr th:only-of-type {\n",
       "        vertical-align: middle;\n",
       "    }\n",
       "\n",
       "    .dataframe tbody tr th {\n",
       "        vertical-align: top;\n",
       "    }\n",
       "\n",
       "    .dataframe thead th {\n",
       "        text-align: right;\n",
       "    }\n",
       "</style>\n",
       "<table border=\"1\" class=\"dataframe\">\n",
       "  <thead>\n",
       "    <tr style=\"text-align: right;\">\n",
       "      <th></th>\n",
       "      <th>product_id</th>\n",
       "      <th>product_name</th>\n",
       "      <th>category</th>\n",
       "      <th>discounted_price</th>\n",
       "      <th>actual_price</th>\n",
       "      <th>discount_percentage</th>\n",
       "      <th>rating</th>\n",
       "      <th>rating_count</th>\n",
       "      <th>about_product</th>\n",
       "      <th>user_id</th>\n",
       "      <th>user_name</th>\n",
       "      <th>review_id</th>\n",
       "      <th>review_title</th>\n",
       "      <th>review_content</th>\n",
       "      <th>img_link</th>\n",
       "      <th>product_link</th>\n",
       "    </tr>\n",
       "  </thead>\n",
       "  <tbody>\n",
       "    <tr>\n",
       "      <th>0</th>\n",
       "      <td>B07JW9H4J1</td>\n",
       "      <td>Wayona Nylon Braided USB to Lightning Fast Cha...</td>\n",
       "      <td>Computers&amp;Accessories|Accessories&amp;Peripherals|...</td>\n",
       "      <td>₹399</td>\n",
       "      <td>₹1,099</td>\n",
       "      <td>64%</td>\n",
       "      <td>4.2</td>\n",
       "      <td>24,269</td>\n",
       "      <td>High Compatibility : Compatible With iPhone 12...</td>\n",
       "      <td>AG3D6O4STAQKAY2UVGEUV46KN35Q,AHMY5CWJMMK5BJRBB...</td>\n",
       "      <td>Manav,Adarsh gupta,Sundeep,S.Sayeed Ahmed,jasp...</td>\n",
       "      <td>R3HXWT0LRP0NMF,R2AJM3LFTLZHFO,R6AQJGUP6P86,R1K...</td>\n",
       "      <td>Satisfied,Charging is really fast,Value for mo...</td>\n",
       "      <td>Looks durable Charging is fine tooNo complains...</td>\n",
       "      <td>https://m.media-amazon.com/images/W/WEBP_40237...</td>\n",
       "      <td>https://www.amazon.in/Wayona-Braided-WN3LG1-Sy...</td>\n",
       "    </tr>\n",
       "    <tr>\n",
       "      <th>1</th>\n",
       "      <td>B098NS6PVG</td>\n",
       "      <td>Ambrane Unbreakable 60W / 3A Fast Charging 1.5...</td>\n",
       "      <td>Computers&amp;Accessories|Accessories&amp;Peripherals|...</td>\n",
       "      <td>₹199</td>\n",
       "      <td>₹349</td>\n",
       "      <td>43%</td>\n",
       "      <td>4.0</td>\n",
       "      <td>43,994</td>\n",
       "      <td>Compatible with all Type C enabled devices, be...</td>\n",
       "      <td>AECPFYFQVRUWC3KGNLJIOREFP5LQ,AGYYVPDD7YG7FYNBX...</td>\n",
       "      <td>ArdKn,Nirbhay kumar,Sagar Viswanathan,Asp,Plac...</td>\n",
       "      <td>RGIQEG07R9HS2,R1SMWZQ86XIN8U,R2J3Y1WL29GWDE,RY...</td>\n",
       "      <td>A Good Braided Cable for Your Type C Device,Go...</td>\n",
       "      <td>I ordered this cable to connect my phone to An...</td>\n",
       "      <td>https://m.media-amazon.com/images/W/WEBP_40237...</td>\n",
       "      <td>https://www.amazon.in/Ambrane-Unbreakable-Char...</td>\n",
       "    </tr>\n",
       "    <tr>\n",
       "      <th>2</th>\n",
       "      <td>B096MSW6CT</td>\n",
       "      <td>Sounce Fast Phone Charging Cable &amp; Data Sync U...</td>\n",
       "      <td>Computers&amp;Accessories|Accessories&amp;Peripherals|...</td>\n",
       "      <td>₹199</td>\n",
       "      <td>₹1,899</td>\n",
       "      <td>90%</td>\n",
       "      <td>3.9</td>\n",
       "      <td>7,928</td>\n",
       "      <td>【 Fast Charger&amp; Data Sync】-With built-in safet...</td>\n",
       "      <td>AGU3BBQ2V2DDAMOAKGFAWDDQ6QHA,AESFLDV2PT363T2AQ...</td>\n",
       "      <td>Kunal,Himanshu,viswanath,sai niharka,saqib mal...</td>\n",
       "      <td>R3J3EQQ9TZI5ZJ,R3E7WBGK7ID0KV,RWU79XKQ6I1QF,R2...</td>\n",
       "      <td>Good speed for earlier versions,Good Product,W...</td>\n",
       "      <td>Not quite durable and sturdy,https://m.media-a...</td>\n",
       "      <td>https://m.media-amazon.com/images/W/WEBP_40237...</td>\n",
       "      <td>https://www.amazon.in/Sounce-iPhone-Charging-C...</td>\n",
       "    </tr>\n",
       "    <tr>\n",
       "      <th>3</th>\n",
       "      <td>B08HDJ86NZ</td>\n",
       "      <td>boAt Deuce USB 300 2 in 1 Type-C &amp; Micro USB S...</td>\n",
       "      <td>Computers&amp;Accessories|Accessories&amp;Peripherals|...</td>\n",
       "      <td>₹329</td>\n",
       "      <td>₹699</td>\n",
       "      <td>53%</td>\n",
       "      <td>4.2</td>\n",
       "      <td>94,363</td>\n",
       "      <td>The boAt Deuce USB 300 2 in 1 cable is compati...</td>\n",
       "      <td>AEWAZDZZJLQUYVOVGBEUKSLXHQ5A,AG5HTSFRRE6NL3M5S...</td>\n",
       "      <td>Omkar dhale,JD,HEMALATHA,Ajwadh a.,amar singh ...</td>\n",
       "      <td>R3EEUZKKK9J36I,R3HJVYCLYOY554,REDECAZ7AMPQC,R1...</td>\n",
       "      <td>Good product,Good one,Nice,Really nice product...</td>\n",
       "      <td>Good product,long wire,Charges good,Nice,I bou...</td>\n",
       "      <td>https://m.media-amazon.com/images/I/41V5FtEWPk...</td>\n",
       "      <td>https://www.amazon.in/Deuce-300-Resistant-Tang...</td>\n",
       "    </tr>\n",
       "    <tr>\n",
       "      <th>4</th>\n",
       "      <td>B08CF3B7N1</td>\n",
       "      <td>Portronics Konnect L 1.2M Fast Charging 3A 8 P...</td>\n",
       "      <td>Computers&amp;Accessories|Accessories&amp;Peripherals|...</td>\n",
       "      <td>₹154</td>\n",
       "      <td>₹399</td>\n",
       "      <td>61%</td>\n",
       "      <td>4.2</td>\n",
       "      <td>16,905</td>\n",
       "      <td>[CHARGE &amp; SYNC FUNCTION]- This cable comes wit...</td>\n",
       "      <td>AE3Q6KSUK5P75D5HFYHCRAOLODSA,AFUGIFH5ZAFXRDSZH...</td>\n",
       "      <td>rahuls6099,Swasat Borah,Ajay Wadke,Pranali,RVK...</td>\n",
       "      <td>R1BP4L2HH9TFUP,R16PVJEXKV6QZS,R2UPDB81N66T4P,R...</td>\n",
       "      <td>As good as original,Decent,Good one for second...</td>\n",
       "      <td>Bought this instead of original apple, does th...</td>\n",
       "      <td>https://m.media-amazon.com/images/W/WEBP_40237...</td>\n",
       "      <td>https://www.amazon.in/Portronics-Konnect-POR-1...</td>\n",
       "    </tr>\n",
       "  </tbody>\n",
       "</table>\n",
       "</div>"
      ],
      "text/plain": [
       "   product_id                                       product_name  \\\n",
       "0  B07JW9H4J1  Wayona Nylon Braided USB to Lightning Fast Cha...   \n",
       "1  B098NS6PVG  Ambrane Unbreakable 60W / 3A Fast Charging 1.5...   \n",
       "2  B096MSW6CT  Sounce Fast Phone Charging Cable & Data Sync U...   \n",
       "3  B08HDJ86NZ  boAt Deuce USB 300 2 in 1 Type-C & Micro USB S...   \n",
       "4  B08CF3B7N1  Portronics Konnect L 1.2M Fast Charging 3A 8 P...   \n",
       "\n",
       "                                            category discounted_price  \\\n",
       "0  Computers&Accessories|Accessories&Peripherals|...             ₹399   \n",
       "1  Computers&Accessories|Accessories&Peripherals|...             ₹199   \n",
       "2  Computers&Accessories|Accessories&Peripherals|...             ₹199   \n",
       "3  Computers&Accessories|Accessories&Peripherals|...             ₹329   \n",
       "4  Computers&Accessories|Accessories&Peripherals|...             ₹154   \n",
       "\n",
       "  actual_price discount_percentage rating rating_count  \\\n",
       "0       ₹1,099                 64%    4.2       24,269   \n",
       "1         ₹349                 43%    4.0       43,994   \n",
       "2       ₹1,899                 90%    3.9        7,928   \n",
       "3         ₹699                 53%    4.2       94,363   \n",
       "4         ₹399                 61%    4.2       16,905   \n",
       "\n",
       "                                       about_product  \\\n",
       "0  High Compatibility : Compatible With iPhone 12...   \n",
       "1  Compatible with all Type C enabled devices, be...   \n",
       "2  【 Fast Charger& Data Sync】-With built-in safet...   \n",
       "3  The boAt Deuce USB 300 2 in 1 cable is compati...   \n",
       "4  [CHARGE & SYNC FUNCTION]- This cable comes wit...   \n",
       "\n",
       "                                             user_id  \\\n",
       "0  AG3D6O4STAQKAY2UVGEUV46KN35Q,AHMY5CWJMMK5BJRBB...   \n",
       "1  AECPFYFQVRUWC3KGNLJIOREFP5LQ,AGYYVPDD7YG7FYNBX...   \n",
       "2  AGU3BBQ2V2DDAMOAKGFAWDDQ6QHA,AESFLDV2PT363T2AQ...   \n",
       "3  AEWAZDZZJLQUYVOVGBEUKSLXHQ5A,AG5HTSFRRE6NL3M5S...   \n",
       "4  AE3Q6KSUK5P75D5HFYHCRAOLODSA,AFUGIFH5ZAFXRDSZH...   \n",
       "\n",
       "                                           user_name  \\\n",
       "0  Manav,Adarsh gupta,Sundeep,S.Sayeed Ahmed,jasp...   \n",
       "1  ArdKn,Nirbhay kumar,Sagar Viswanathan,Asp,Plac...   \n",
       "2  Kunal,Himanshu,viswanath,sai niharka,saqib mal...   \n",
       "3  Omkar dhale,JD,HEMALATHA,Ajwadh a.,amar singh ...   \n",
       "4  rahuls6099,Swasat Borah,Ajay Wadke,Pranali,RVK...   \n",
       "\n",
       "                                           review_id  \\\n",
       "0  R3HXWT0LRP0NMF,R2AJM3LFTLZHFO,R6AQJGUP6P86,R1K...   \n",
       "1  RGIQEG07R9HS2,R1SMWZQ86XIN8U,R2J3Y1WL29GWDE,RY...   \n",
       "2  R3J3EQQ9TZI5ZJ,R3E7WBGK7ID0KV,RWU79XKQ6I1QF,R2...   \n",
       "3  R3EEUZKKK9J36I,R3HJVYCLYOY554,REDECAZ7AMPQC,R1...   \n",
       "4  R1BP4L2HH9TFUP,R16PVJEXKV6QZS,R2UPDB81N66T4P,R...   \n",
       "\n",
       "                                        review_title  \\\n",
       "0  Satisfied,Charging is really fast,Value for mo...   \n",
       "1  A Good Braided Cable for Your Type C Device,Go...   \n",
       "2  Good speed for earlier versions,Good Product,W...   \n",
       "3  Good product,Good one,Nice,Really nice product...   \n",
       "4  As good as original,Decent,Good one for second...   \n",
       "\n",
       "                                      review_content  \\\n",
       "0  Looks durable Charging is fine tooNo complains...   \n",
       "1  I ordered this cable to connect my phone to An...   \n",
       "2  Not quite durable and sturdy,https://m.media-a...   \n",
       "3  Good product,long wire,Charges good,Nice,I bou...   \n",
       "4  Bought this instead of original apple, does th...   \n",
       "\n",
       "                                            img_link  \\\n",
       "0  https://m.media-amazon.com/images/W/WEBP_40237...   \n",
       "1  https://m.media-amazon.com/images/W/WEBP_40237...   \n",
       "2  https://m.media-amazon.com/images/W/WEBP_40237...   \n",
       "3  https://m.media-amazon.com/images/I/41V5FtEWPk...   \n",
       "4  https://m.media-amazon.com/images/W/WEBP_40237...   \n",
       "\n",
       "                                        product_link  \n",
       "0  https://www.amazon.in/Wayona-Braided-WN3LG1-Sy...  \n",
       "1  https://www.amazon.in/Ambrane-Unbreakable-Char...  \n",
       "2  https://www.amazon.in/Sounce-iPhone-Charging-C...  \n",
       "3  https://www.amazon.in/Deuce-300-Resistant-Tang...  \n",
       "4  https://www.amazon.in/Portronics-Konnect-POR-1...  "
      ]
     },
     "execution_count": 4,
     "metadata": {},
     "output_type": "execute_result"
    }
   ],
   "source": [
    "amazon_df.head()"
   ]
  },
  {
   "cell_type": "markdown",
   "id": "dc66d475",
   "metadata": {
    "execution": {
     "iopub.execute_input": "2024-03-22T19:23:23.721120Z",
     "iopub.status.busy": "2024-03-22T19:23:23.720644Z",
     "iopub.status.idle": "2024-03-22T19:23:23.757773Z",
     "shell.execute_reply": "2024-03-22T19:23:23.756197Z",
     "shell.execute_reply.started": "2024-03-22T19:23:23.721070Z"
    },
    "papermill": {
     "duration": 0.004716,
     "end_time": "2024-05-02T14:31:08.902270",
     "exception": false,
     "start_time": "2024-05-02T14:31:08.897554",
     "status": "completed"
    },
    "tags": []
   },
   "source": [
    "Current exchange rate for the indian rupee(INR) to USD\n",
    "\n",
    "1.00000 INR = 0.01201 USD\n",
    "\n",
    "exchange_rate_rupee_to_usd = 0.01201"
   ]
  },
  {
   "cell_type": "code",
   "execution_count": 5,
   "id": "5cd37fe2",
   "metadata": {
    "execution": {
     "iopub.execute_input": "2024-05-02T14:31:08.913904Z",
     "iopub.status.busy": "2024-05-02T14:31:08.913529Z",
     "iopub.status.idle": "2024-05-02T14:31:08.943179Z",
     "shell.execute_reply": "2024-05-02T14:31:08.942042Z"
    },
    "papermill": {
     "duration": 0.038662,
     "end_time": "2024-05-02T14:31:08.945898",
     "exception": false,
     "start_time": "2024-05-02T14:31:08.907236",
     "status": "completed"
    },
    "tags": []
   },
   "outputs": [
    {
     "name": "stdout",
     "output_type": "stream",
     "text": [
      "      actual_price_USD  discounted_price_USD\n",
      "0             13.19899               4.79199\n",
      "1              4.19149               2.38999\n",
      "2             22.80699               2.38999\n",
      "3              8.39499               3.95129\n",
      "4              4.79199               1.84954\n",
      "...                ...                   ...\n",
      "1460          11.03719               4.55179\n",
      "1461          36.57045               27.3828\n",
      "1462           36.9908              26.65019\n",
      "1463           22.6989              16.80199\n",
      "1464           44.3169              34.38463\n",
      "\n",
      "[1465 rows x 2 columns]\n"
     ]
    }
   ],
   "source": [
    "conversion1 = amazon_df['actual_price'].convert_dtypes()\n",
    "conversion1 = pd.to_numeric(conversion1.str.replace('₹','').str.replace(',', ''))\n",
    "exchange_rate_rupee_to_usd = 0.01201\n",
    "amazon_df['actual_price_USD'] = conversion1 * exchange_rate_rupee_to_usd\n",
    "\n",
    "conversion2 = amazon_df['discounted_price'].convert_dtypes()\n",
    "conversion2 = pd.to_numeric(conversion2.str.replace('₹','').str.replace(',', ''))\n",
    "amazon_df['discounted_price_USD'] = conversion2 * exchange_rate_rupee_to_usd\n",
    "\n",
    "\n",
    "# conversion = pd.to_numeric(amazon_df['actual_price'].str.replace('₹','').str.replace(',', ''))\n",
    "print(amazon_df[['actual_price_USD', 'discounted_price_USD']])"
   ]
  },
  {
   "cell_type": "code",
   "execution_count": 6,
   "id": "e746290a",
   "metadata": {
    "execution": {
     "iopub.execute_input": "2024-05-02T14:31:08.958046Z",
     "iopub.status.busy": "2024-05-02T14:31:08.957660Z",
     "iopub.status.idle": "2024-05-02T14:31:08.987869Z",
     "shell.execute_reply": "2024-05-02T14:31:08.986875Z"
    },
    "papermill": {
     "duration": 0.039234,
     "end_time": "2024-05-02T14:31:08.990337",
     "exception": false,
     "start_time": "2024-05-02T14:31:08.951103",
     "status": "completed"
    },
    "tags": []
   },
   "outputs": [
    {
     "data": {
      "text/plain": [
       "0       False\n",
       "1       False\n",
       "2       False\n",
       "3       False\n",
       "4       False\n",
       "        ...  \n",
       "1460    False\n",
       "1461    False\n",
       "1462    False\n",
       "1463    False\n",
       "1464    False\n",
       "Length: 1465, dtype: bool"
      ]
     },
     "execution_count": 6,
     "metadata": {},
     "output_type": "execute_result"
    }
   ],
   "source": [
    "amazon_df.duplicated()"
   ]
  },
  {
   "cell_type": "code",
   "execution_count": 7,
   "id": "1096cda1",
   "metadata": {
    "execution": {
     "iopub.execute_input": "2024-05-02T14:31:09.006253Z",
     "iopub.status.busy": "2024-05-02T14:31:09.003204Z",
     "iopub.status.idle": "2024-05-02T14:31:09.011202Z",
     "shell.execute_reply": "2024-05-02T14:31:09.009827Z"
    },
    "papermill": {
     "duration": 0.018152,
     "end_time": "2024-05-02T14:31:09.014002",
     "exception": false,
     "start_time": "2024-05-02T14:31:08.995850",
     "status": "completed"
    },
    "tags": []
   },
   "outputs": [],
   "source": [
    "pd.set_option(\"max_colwidth\", 200)"
   ]
  },
  {
   "cell_type": "code",
   "execution_count": 8,
   "id": "1fbcd8fc",
   "metadata": {
    "execution": {
     "iopub.execute_input": "2024-05-02T14:31:09.026191Z",
     "iopub.status.busy": "2024-05-02T14:31:09.025794Z",
     "iopub.status.idle": "2024-05-02T14:31:09.035095Z",
     "shell.execute_reply": "2024-05-02T14:31:09.033740Z"
    },
    "papermill": {
     "duration": 0.018441,
     "end_time": "2024-05-02T14:31:09.037738",
     "exception": false,
     "start_time": "2024-05-02T14:31:09.019297",
     "status": "completed"
    },
    "scrolled": true,
    "tags": []
   },
   "outputs": [
    {
     "data": {
      "text/plain": [
       "0             Computers&Accessories|Accessories&Peripherals|Cables&Accessories|Cables|USBCables\n",
       "1             Computers&Accessories|Accessories&Peripherals|Cables&Accessories|Cables|USBCables\n",
       "2             Computers&Accessories|Accessories&Peripherals|Cables&Accessories|Cables|USBCables\n",
       "3             Computers&Accessories|Accessories&Peripherals|Cables&Accessories|Cables|USBCables\n",
       "4             Computers&Accessories|Accessories&Peripherals|Cables&Accessories|Cables|USBCables\n",
       "                                                 ...                                           \n",
       "1460    Home&Kitchen|Kitchen&HomeAppliances|WaterPurifiers&Accessories|WaterPurifierAccessories\n",
       "1461               Home&Kitchen|Kitchen&HomeAppliances|SmallKitchenAppliances|Rice&PastaCookers\n",
       "1462                         Home&Kitchen|Heating,Cooling&AirQuality|RoomHeaters|HeatConvectors\n",
       "1463                                   Home&Kitchen|Heating,Cooling&AirQuality|Fans|ExhaustFans\n",
       "1464                  Home&Kitchen|Kitchen&HomeAppliances|SmallKitchenAppliances|SandwichMakers\n",
       "Name: category, Length: 1465, dtype: object"
      ]
     },
     "execution_count": 8,
     "metadata": {},
     "output_type": "execute_result"
    }
   ],
   "source": [
    "amazon_df['category']\n"
   ]
  }
 ],
 "metadata": {
  "kaggle": {
   "accelerator": "none",
   "dataSources": [
    {
     "datasetId": 2818963,
     "sourceId": 4862520,
     "sourceType": "datasetVersion"
    }
   ],
   "dockerImageVersionId": 30673,
   "isGpuEnabled": false,
   "isInternetEnabled": false,
   "language": "python",
   "sourceType": "notebook"
  },
  "kernelspec": {
   "display_name": "Python 3",
   "language": "python",
   "name": "python3"
  },
  "language_info": {
   "codemirror_mode": {
    "name": "ipython",
    "version": 3
   },
   "file_extension": ".py",
   "mimetype": "text/x-python",
   "name": "python",
   "nbconvert_exporter": "python",
   "pygments_lexer": "ipython3",
   "version": "3.11.7"
  },
  "papermill": {
   "default_parameters": {},
   "duration": 5.677089,
   "end_time": "2024-05-02T14:31:09.565523",
   "environment_variables": {},
   "exception": null,
   "input_path": "__notebook__.ipynb",
   "output_path": "__notebook__.ipynb",
   "parameters": {},
   "start_time": "2024-05-02T14:31:03.888434",
   "version": "2.5.0"
  }
 },
 "nbformat": 4,
 "nbformat_minor": 5
}
