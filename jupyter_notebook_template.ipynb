{
 "cells": [
  {
   "cell_type": "markdown",
   "metadata": {},
   "source": [
    "# Title"
   ]
  },
  {
   "cell_type": "markdown",
   "metadata": {},
   "source": [
    "![image_name](../assets/image_name.png \"alt-image_name!\")"
   ]
  },
  {
   "cell_type": "markdown",
   "metadata": {},
   "source": [
    "## About Author\n",
    "\n",
    "Author: Joshua Farara\n",
    "\n",
    "Project: title"
   ]
  },
  {
   "cell_type": "markdown",
   "metadata": {},
   "source": [
    "### Contact Info\n",
    "Click on link below to contact/follow/correct me:\n",
    "\n",
    "Email: joshua.farara@gmail.com\n",
    "\n",
    "[LinkedIn](https://www.linkedin.com/in/joshuafarara/)\n",
    "\n",
    "[Facebook](https://www.facebook.com/josh.farara/)\n",
    "\n",
    "[Twitter](https://x.com/FararaTheArtist)\n",
    "\n",
    "[Github](https://github.com/JoshuaFarara)\n"
   ]
  },
  {
   "cell_type": "markdown",
   "metadata": {},
   "source": [
    "## About Data\n",
    "\n",
    "Title: Dataset Title\n",
    "\n",
    "Dataset: Link\n",
    "\n",
    "Brief Description of dataset"
   ]
  },
  {
   "cell_type": "markdown",
   "metadata": {},
   "source": [
    "### Dataset Columns Names\n",
    "\n",
    "Features:\n"
   ]
  },
  {
   "cell_type": "markdown",
   "metadata": {},
   "source": [
    "### Metadata\n",
    "\n",
    "Source:\n",
    "\n",
    "Collection Methodology:\n",
    "\n",
    "License:\n",
    "\n"
   ]
  },
  {
   "cell_type": "markdown",
   "metadata": {},
   "source": [
    "### Task\n",
    "\n",
    "Describe task at hand for this dataset."
   ]
  },
  {
   "cell_type": "markdown",
   "metadata": {},
   "source": [
    "### Objectives\n",
    "\n",
    "Describe objective at had for this dataset."
   ]
  },
  {
   "cell_type": "markdown",
   "metadata": {},
   "source": [
    "### Kernel Version Used\n",
    "\n",
    "Python==3.11.7"
   ]
  },
  {
   "cell_type": "markdown",
   "metadata": {},
   "source": [
    "## Import Libraries\n",
    "\n",
    "We will use the following libraries¶\n",
    "1. Pandas: Data manipulation and analysis\n",
    "2. Numpy: Numerical operations and calculations\n",
    "3. Matplotlib: Data visualization and plotting\n",
    "4. Seaborn: Enhanced data visualization and statistical graphics\n",
    "5. Scipy: Scientific computing and advanced mathematical operations"
   ]
  },
  {
   "cell_type": "code",
   "execution_count": null,
   "metadata": {},
   "outputs": [],
   "source": [
    "import pandas as pd\n",
    "import numpy as np\n",
    "import matplotlib.pyplot as plt\n",
    "import seaborn as sns\n",
    "import scipy as sp\n",
    "# this is for jupyter notebook to show the plot in the notebook itself instead of opening a new window\n",
    "%matplotlib inline"
   ]
  },
  {
   "cell_type": "markdown",
   "metadata": {},
   "source": [
    "## Data Loading and Exploration | Cleaning"
   ]
  },
  {
   "cell_type": "markdown",
   "metadata": {},
   "source": [
    "### Load a CSV file then creating a dataframe"
   ]
  },
  {
   "cell_type": "markdown",
   "metadata": {},
   "source": [
    "### Set the option to show maximum columns"
   ]
  },
  {
   "cell_type": "markdown",
   "metadata": {},
   "source": [
    "### Get a sneak peek of data"
   ]
  },
  {
   "cell_type": "code",
   "execution_count": null,
   "metadata": {},
   "outputs": [],
   "source": [
    "df.head(5)"
   ]
  }
 ],
 "metadata": {
  "kernelspec": {
   "display_name": "venv",
   "language": "python",
   "name": "python3"
  },
  "language_info": {
   "name": "python",
   "version": "3.11.7"
  }
 },
 "nbformat": 4,
 "nbformat_minor": 2
}
